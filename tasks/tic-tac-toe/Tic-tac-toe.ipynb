{
 "cells": [
  {
   "cell_type": "code",
   "execution_count": 56,
   "id": "a314095e",
   "metadata": {},
   "outputs": [
    {
     "data": {
      "application/vnd.jupyter.widget-view+json": {
       "model_id": "c1f586f282534fe3b03be9314a341ca9",
       "version_major": 2,
       "version_minor": 0
      },
      "text/plain": [
       "VBox(children=(Button(description='clear', layout=Layout(height='32px', width='152px'), style=ButtonStyle()), …"
      ]
     },
     "metadata": {},
     "output_type": "display_data"
    }
   ],
   "source": [
    "from IPython.display import display, clear_output\n",
    "from ipywidgets import Button, HBox, VBox, Layout\n",
    "\n",
    "def display_buttons():\n",
    "    clear_output(wait=True)\n",
    "    display(VBox([clear_button, first_row, second_row, third_row]))\n",
    "\n",
    "def on_button_clicked(b):\n",
    "    if clear_button.description == \"clear\":\n",
    "        global X_move\n",
    "        if b.description == \"\":\n",
    "            if X_move:\n",
    "                b.description = \"X\"\n",
    "                X_move = False\n",
    "            else:\n",
    "                b.description = \"O\"\n",
    "                X_move = True\n",
    "        display_buttons()\n",
    "        end_of_game_check()\n",
    "    \n",
    "def on_clear_clicked(b):\n",
    "    global X_move\n",
    "    global buttons\n",
    "    X_move = True\n",
    "    b.description = \"clear\"\n",
    "    for button in buttons:\n",
    "        button.description = \"\"\n",
    "    display_buttons()\n",
    "    \n",
    "def end_of_game_check():\n",
    "    cels = [x.description for x in buttons]\n",
    "    all_combinations = \" \".join((\"\".join(cels[:3]), \"\".join(cels[3:6]), \"\".join(cels[6:9]), \n",
    "                    \"\".join(cels[::3]), \"\".join(cels[1::3]), \"\".join(cels[2::3]),\n",
    "                   \"\".join(cels[::4]), cels[2] + cels[4] + cels[6]))\n",
    "    if \"XXX\" in all_combinations:\n",
    "        there_is_winner(\"X\")\n",
    "    elif \"OOO\" in all_combinations:\n",
    "        there_is_winner(\"O\")\n",
    "    for button in buttons:\n",
    "        if button.description == \"\":\n",
    "            break\n",
    "    else:\n",
    "        draw()\n",
    "    \n",
    "def there_is_winner(player):\n",
    "    clear_button.description = f\"{player} is a winner!\"\n",
    "\n",
    "def draw():\n",
    "    clear_button.description = \"New game\"\n",
    "\n",
    "X_move = True\n",
    "        \n",
    "buttons = [Button(layout=Layout(width='48px', height='48px')) for n in range(9)]\n",
    "\n",
    "clear_button = Button(description = \"clear\", layout=Layout(width='152px', height='32px'))\n",
    "\n",
    "first_row = HBox(buttons[:3])\n",
    "second_row = HBox(buttons[3:6])\n",
    "third_row = HBox(buttons[6:9])\n",
    "\n",
    "for button in buttons:\n",
    "    button.on_click(on_button_clicked)\n",
    "   \n",
    "clear_button.on_click(on_clear_clicked)\n",
    "    \n",
    "display_buttons()"
   ]
  }
 ],
 "metadata": {
  "kernelspec": {
   "display_name": "Python 3 (ipykernel)",
   "language": "python",
   "name": "python3"
  },
  "language_info": {
   "codemirror_mode": {
    "name": "ipython",
    "version": 3
   },
   "file_extension": ".py",
   "mimetype": "text/x-python",
   "name": "python",
   "nbconvert_exporter": "python",
   "pygments_lexer": "ipython3",
   "version": "3.9.12"
  }
 },
 "nbformat": 4,
 "nbformat_minor": 5
}
