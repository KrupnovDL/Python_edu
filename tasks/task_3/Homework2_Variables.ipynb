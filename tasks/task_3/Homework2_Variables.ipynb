{
 "cells": [
  {
   "cell_type": "markdown",
   "metadata": {},
   "source": [
    "Welcome to the second homework! The purpose is to test and practice your understanding of the current topic.\n",
    "\n",
    "Once you have done all of them, send me your solutions"
   ]
  },
  {
   "cell_type": "markdown",
   "metadata": {},
   "source": [
    "VARIABLES"
   ]
  },
  {
   "cell_type": "markdown",
   "metadata": {},
   "source": [
    "1. Create a variable called 'name' and assign it your name\n",
    "2. Create a variable 'surname' and assign it your surname\n",
    "3. Print your name and surname\n",
    "4. Create variable 'a', that stores value 2 as integer\n",
    "5. Create variable 'b', that stores value 2 as a string\n",
    "6. Now create variable 'c' that is equal to 'a' times two\n",
    "7. Also create variable 'd' that is equal to 'b' times two. Print 'c' and 'd'. What is the difference? Why?"
   ]
  },
  {
   "cell_type": "code",
   "execution_count": 7,
   "metadata": {},
   "outputs": [],
   "source": [
    "# 1. Create a variable called 'name' and assign it your name\n",
    "name = \"Dima\""
   ]
  },
  {
   "cell_type": "code",
   "execution_count": 11,
   "metadata": {},
   "outputs": [],
   "source": [
    "# 2. Create a variable 'surname' and assign it your surname\n",
    "surname = \"Krupnov\""
   ]
  },
  {
   "cell_type": "code",
   "execution_count": 20,
   "metadata": {},
   "outputs": [
    {
     "name": "stdout",
     "output_type": "stream",
     "text": [
      "Dima Krupnov\n"
     ]
    }
   ],
   "source": [
    "# 3. Print your name and surname\n",
    "print(f\"{name} {surname}\")"
   ]
  },
  {
   "cell_type": "code",
   "execution_count": 13,
   "metadata": {},
   "outputs": [],
   "source": [
    "# 4. Create variable 'a', that stores value 2 as integer\n",
    "a = 2"
   ]
  },
  {
   "cell_type": "code",
   "execution_count": 14,
   "metadata": {},
   "outputs": [],
   "source": [
    "# 5. Create variable 'b', that stores value 2 as a string\n",
    "b = '2'"
   ]
  },
  {
   "cell_type": "code",
   "execution_count": 15,
   "metadata": {},
   "outputs": [],
   "source": [
    "# 6. Now create variable 'c' that is equal to 'a' times two\n",
    "c = a * 2"
   ]
  },
  {
   "cell_type": "code",
   "execution_count": 23,
   "metadata": {},
   "outputs": [
    {
     "name": "stdout",
     "output_type": "stream",
     "text": [
      "c = 4 (the result of multiplying the integer by two)\n",
      "d = 22 (the result of multiplying the string by two)\n"
     ]
    }
   ],
   "source": [
    "# 7. Also create variable 'd' that is equal to 'b' times two. Print 'c' and 'd'. What is the difference? Why?\n",
    "d = b * 2\n",
    "print(f\"c = {c} (the result of multiplying the integer by two)\")\n",
    "print(f\"d = {d} (the result of multiplying the string by two)\")"
   ]
  },
  {
   "cell_type": "code",
   "execution_count": 24,
   "metadata": {},
   "outputs": [
    {
     "data": {
      "text/plain": [
       "str"
      ]
     },
     "execution_count": 24,
     "metadata": {},
     "output_type": "execute_result"
    }
   ],
   "source": [
    "# 8. What's the data type of the 'dog' variable?\n",
    "dog = 'Marley'\n",
    "type(dog)"
   ]
  },
  {
   "cell_type": "code",
   "execution_count": 25,
   "metadata": {},
   "outputs": [
    {
     "data": {
      "text/plain": [
       "list"
      ]
     },
     "execution_count": 25,
     "metadata": {},
     "output_type": "execute_result"
    }
   ],
   "source": [
    "# 9. What's the data type of the 'names' variable?\n",
    "names = ['Milan', 'Jakub', 'Vojtech', 'Stanislav']\n",
    "type(names)"
   ]
  },
  {
   "cell_type": "code",
   "execution_count": 28,
   "metadata": {},
   "outputs": [
    {
     "data": {
      "text/plain": [
       "dict"
      ]
     },
     "execution_count": 28,
     "metadata": {},
     "output_type": "execute_result"
    }
   ],
   "source": [
    "# 10. What's the data type of the 'numbers' variable?\n",
    "numbers = {1: 'one', 2: 'two', 3: 'three'}\n",
    "type(numbers)"
   ]
  },
  {
   "cell_type": "code",
   "execution_count": 35,
   "metadata": {},
   "outputs": [
    {
     "name": "stdout",
     "output_type": "stream",
     "text": [
      "100.0\n"
     ]
    }
   ],
   "source": [
    "# 11. Use +=, -=, *= /=, to get from number 1 to number 100 (you can use them multiple times).\n",
    "one = 1\n",
    "one /= 0.01\n",
    "one += -100\n",
    "one -= 100\n",
    "one *= -1\n",
    "print(one)"
   ]
  }
 ],
 "metadata": {
  "kernelspec": {
   "display_name": "Python 3 (ipykernel)",
   "language": "python",
   "name": "python3"
  },
  "language_info": {
   "codemirror_mode": {
    "name": "ipython",
    "version": 3
   },
   "file_extension": ".py",
   "mimetype": "text/x-python",
   "name": "python",
   "nbconvert_exporter": "python",
   "pygments_lexer": "ipython3",
   "version": "3.9.12"
  }
 },
 "nbformat": 4,
 "nbformat_minor": 2
}
