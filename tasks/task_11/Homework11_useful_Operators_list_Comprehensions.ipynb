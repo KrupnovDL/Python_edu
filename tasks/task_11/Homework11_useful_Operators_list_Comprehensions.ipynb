{
 "cells": [
  {
   "cell_type": "markdown",
   "metadata": {},
   "source": [
    "Welcome to another homework! The purpose is to test and practice your understanding of the current topic.\n",
    "\n",
    "Once you have done all of them, send me your solutions.\n",
    "\n",
    "USEFUL OPERATORS AND LIST COMPREHENSION"
   ]
  },
  {
   "cell_type": "markdown",
   "metadata": {},
   "source": [
    "1. Create a for cycle that will print numbers 0,1,2...up to a random number between 10 and 30."
   ]
  },
  {
   "cell_type": "code",
   "execution_count": null,
   "metadata": {},
   "outputs": [],
   "source": []
  },
  {
   "cell_type": "markdown",
   "metadata": {},
   "source": [
    "2. BINGO!\n",
    "\n",
    "Create a small interactive shuffler. \n",
    "\n",
    "Ask user how many numbers he wants to input.\n",
    "\n",
    "Then ask him to input these numbers one by one.\n",
    "\n",
    "Add these numbers into a list, and print out randomly shuffled list of these numbers.\n",
    "\n",
    "Example:\n",
    "\n",
    "    How many numbers will you give me?\n",
    "    3\n",
    "    Please input number\n",
    "    0\n",
    "    Please input number\n",
    "    4\n",
    "    Please input number\n",
    "    99\n",
    "    Your shuffled list is [4,99,0]\n",
    "    "
   ]
  },
  {
   "cell_type": "code",
   "execution_count": null,
   "metadata": {},
   "outputs": [],
   "source": []
  },
  {
   "cell_type": "markdown",
   "metadata": {},
   "source": [
    "3. Print the square of multiples of 3 from 0 to 100."
   ]
  },
  {
   "cell_type": "code",
   "execution_count": null,
   "metadata": {},
   "outputs": [],
   "source": []
  },
  {
   "cell_type": "markdown",
   "metadata": {},
   "source": [
    "4. ASCII\n",
    "\n",
    "Generate 50 random ASCII character (order in ASCII table between 33 and 255). \n",
    "\n",
    "For each character print out whether it is in the english alphabet, or a number, or something else. Check this using the \"in\" operator.\n",
    "\n",
    "Create your own dictionary of numbers and alphabet, containing the required characters. \n",
    "\n",
    "    Example of output:\n",
    "\n",
    "    A - Alphabet\n",
    "    8 - Number\n",
    "    ; - Something else."
   ]
  },
  {
   "cell_type": "code",
   "execution_count": null,
   "metadata": {},
   "outputs": [],
   "source": []
  },
  {
   "cell_type": "markdown",
   "metadata": {},
   "source": [
    "5. Use enumerate() to print out the letter from word 'onomatopoje' uppercase if it hads odd index, or lowercase if it has even index."
   ]
  },
  {
   "cell_type": "code",
   "execution_count": null,
   "metadata": {},
   "outputs": [],
   "source": []
  },
  {
   "cell_type": "markdown",
   "metadata": {},
   "source": [
    "6. THE ORACLE\n",
    "\n",
    "Create an Oracle, that forecasts which player will be sold to which team in the upcoming season.\n",
    "\n",
    "It works like this:\n",
    "    \n",
    "    1. Asks how many football teams you wish to enter\n",
    "    2. Asks you to enter the name of the teams\n",
    "    3. Asks you to enter name of players (same number as the number of teams)\n",
    "    4. Predicts players to teams => zips them up randomly\n",
    "    \n",
    "    "
   ]
  },
  {
   "cell_type": "code",
   "execution_count": null,
   "metadata": {},
   "outputs": [],
   "source": []
  },
  {
   "cell_type": "markdown",
   "metadata": {},
   "source": [
    "7. PYTHAGORAS\n",
    "\n",
    "Using list comprehension, take sides a,b from legs[], and create list containing the size of the corresponding hypotenuse (prepona). "
   ]
  },
  {
   "cell_type": "code",
   "execution_count": 1,
   "metadata": {},
   "outputs": [
    {
     "name": "stdout",
     "output_type": "stream",
     "text": [
      "5\n",
      "7\n",
      "4\n",
      "2.23606797749979\n"
     ]
    }
   ],
   "source": [
    "legs = [(5, 3), (7, 12), (4, 4), (5**0.5, 2)]"
   ]
  }
 ],
 "metadata": {
  "kernelspec": {
   "display_name": "Python 3",
   "language": "python",
   "name": "python3"
  },
  "language_info": {
   "codemirror_mode": {
    "name": "ipython",
    "version": 3
   },
   "file_extension": ".py",
   "mimetype": "text/x-python",
   "name": "python",
   "nbconvert_exporter": "python",
   "pygments_lexer": "ipython3",
   "version": "3.8.5"
  }
 },
 "nbformat": 4,
 "nbformat_minor": 2
}
