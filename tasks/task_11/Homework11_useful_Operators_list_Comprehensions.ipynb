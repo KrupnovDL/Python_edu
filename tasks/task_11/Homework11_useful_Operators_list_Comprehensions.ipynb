{
 "cells": [
  {
   "cell_type": "markdown",
   "metadata": {},
   "source": [
    "Welcome to another homework! The purpose is to test and practice your understanding of the current topic.\n",
    "\n",
    "Once you have done all of them, send me your solutions.\n",
    "\n",
    "USEFUL OPERATORS AND LIST COMPREHENSION"
   ]
  },
  {
   "cell_type": "markdown",
   "metadata": {},
   "source": [
    "1. Create a for cycle that will print numbers 0,1,2...up to a random number between 10 and 30."
   ]
  },
  {
   "cell_type": "code",
   "execution_count": 13,
   "metadata": {},
   "outputs": [
    {
     "name": "stdout",
     "output_type": "stream",
     "text": [
      "0\n",
      "1\n",
      "2\n",
      "3\n",
      "4\n",
      "5\n",
      "6\n",
      "7\n",
      "8\n",
      "9\n",
      "10\n",
      "11\n",
      "12\n",
      "13\n",
      "14\n",
      "15\n"
     ]
    }
   ],
   "source": [
    "import random\n",
    "\n",
    "for number in range(random.randrange(10, 31)):\n",
    "    print(number)"
   ]
  },
  {
   "cell_type": "markdown",
   "metadata": {},
   "source": [
    "2. BINGO!\n",
    "\n",
    "Create a small interactive shuffler. \n",
    "\n",
    "Ask user how many numbers he wants to input.\n",
    "\n",
    "Then ask him to input these numbers one by one.\n",
    "\n",
    "Add these numbers into a list, and print out randomly shuffled list of these numbers.\n",
    "\n",
    "Example:\n",
    "\n",
    "    How many numbers will you give me?\n",
    "    3\n",
    "    Please input number\n",
    "    0\n",
    "    Please input number\n",
    "    4\n",
    "    Please input number\n",
    "    99\n",
    "    Your shuffled list is [4,99,0]\n",
    "    "
   ]
  },
  {
   "cell_type": "code",
   "execution_count": 30,
   "metadata": {},
   "outputs": [
    {
     "name": "stdout",
     "output_type": "stream",
     "text": [
      "How many numbers will you give me?\n",
      "3\n",
      "Please input number\n",
      "0\n",
      "Please input number\n",
      "4\n",
      "Please input number\n",
      "99\n",
      "Your shuffled list is [99, 4, 0]\n"
     ]
    }
   ],
   "source": [
    "from random import shuffle\n",
    "\n",
    "def int_input():\n",
    "    while integer := input():\n",
    "        try:\n",
    "            return int(integer)\n",
    "        except ValueError:\n",
    "            continue\n",
    "\n",
    "print(\"How many numbers will you give me?\")\n",
    "number_of_imputs = int_input()\n",
    "\n",
    "list_of_numbers = []\n",
    "for i in range(number_of_imputs):\n",
    "    print(\"Please input number\")\n",
    "    list_of_numbers.append(int_input())\n",
    "\n",
    "shuffle(list_of_numbers)\n",
    "print(f\"Your shuffled list is {list_of_numbers}\")"
   ]
  },
  {
   "cell_type": "markdown",
   "metadata": {},
   "source": [
    "3. Print the square of multiples of 3 from 0 to 100."
   ]
  },
  {
   "cell_type": "code",
   "execution_count": 6,
   "metadata": {},
   "outputs": [
    {
     "name": "stdout",
     "output_type": "stream",
     "text": [
      "[9, 36, 81, 144, 225, 324, 441, 576, 729, 900, 1089, 1296, 1521, 1764, 2025, 2304, 2601, 2916, 3249, 3600, 3969, 4356, 4761, 5184, 5625, 6084, 6561, 7056, 7569, 8100, 8649, 9216, 9801]\n"
     ]
    }
   ],
   "source": [
    "multiples_of_3 = 0\n",
    "result = [x**2 for x in range(3, 101, 3)]\n",
    "print(result)"
   ]
  },
  {
   "cell_type": "markdown",
   "metadata": {},
   "source": [
    "4. ASCII\n",
    "\n",
    "Generate 50 random ASCII character (order in ASCII table between 33 and 255). \n",
    "\n",
    "For each character print out whether it is in the english alphabet, or a number, or something else. Check this using the \"in\" operator.\n",
    "\n",
    "Create your own dictionary of numbers and alphabet, containing the required characters. \n",
    "\n",
    "    Example of output:\n",
    "\n",
    "    A - Alphabet\n",
    "    8 - Number\n",
    "    ; - Something else."
   ]
  },
  {
   "cell_type": "code",
   "execution_count": 70,
   "metadata": {},
   "outputs": [
    {
     "name": "stdout",
     "output_type": "stream",
     "text": [
      " - Something else.\n",
      "= - Something else.\n",
      "ï - Something else.\n",
      "+ - Something else.\n",
      "A - Alphabet\n",
      "° - Something else.\n",
      "Ù - Something else.\n",
      " - Something else.\n",
      " - Something else.\n",
      "­ - Something else.\n",
      "þ - Something else.\n",
      "Í - Something else.\n",
      "4 - Number\n",
      " - Something else.\n",
      "w - Alphabet\n",
      "Y - Alphabet\n",
      "6 - Number\n",
      "ä - Something else.\n",
      "é - Something else.\n",
      " - Something else.\n",
      "µ - Something else.\n",
      "Ø - Something else.\n",
      " - Something else.\n",
      "² - Number\n",
      "Ñ - Something else.\n",
      "ñ - Something else.\n",
      "< - Something else.\n",
      " - Something else.\n",
      "Ä - Something else.\n",
      "Ü - Something else.\n",
      "â - Something else.\n",
      "R - Alphabet\n",
      " - Something else.\n",
      "ø - Something else.\n",
      "% - Something else.\n",
      "\" - Something else.\n",
      "ð - Something else.\n",
      "S - Alphabet\n",
      "· - Something else.\n",
      "e - Alphabet\n",
      "7 - Number\n",
      "d - Alphabet\n",
      "g - Alphabet\n",
      "b - Alphabet\n",
      " - Something else.\n",
      "Z - Alphabet\n",
      " - Something else.\n",
      "æ - Something else.\n",
      " - Something else.\n",
      " - Something else.\n"
     ]
    }
   ],
   "source": [
    "characters = {}\n",
    "\n",
    "for i in range(50):\n",
    "    while (ranmdom_number := random.randrange(33, 256)) in characters:\n",
    "        pass\n",
    "    if (ranmdom_number >= 65 and ranmdom_number <= 90) or (ranmdom_number >= 97 and ranmdom_number <= 122):\n",
    "        characters[ranmdom_number] = \"Alphabet\"\n",
    "    elif chr(ranmdom_number).isdigit(): # it's also ², not only 0-9\n",
    "        characters[ranmdom_number] = \"Number\"\n",
    "    else:\n",
    "        characters[ranmdom_number] = \"Something else.\"\n",
    "   \n",
    "for character, kind in characters.items():\n",
    "    print(f\"{chr(character)} - {kind}\")"
   ]
  },
  {
   "cell_type": "markdown",
   "metadata": {},
   "source": [
    "5. Use enumerate() to print out the letter from word 'onomatopoje' uppercase if it hads odd index, or lowercase if it has even index."
   ]
  },
  {
   "cell_type": "code",
   "execution_count": 72,
   "metadata": {},
   "outputs": [
    {
     "name": "stdout",
     "output_type": "stream",
     "text": [
      "o\n",
      "N\n",
      "o\n",
      "M\n",
      "a\n",
      "T\n",
      "o\n",
      "P\n",
      "o\n",
      "J\n",
      "e\n"
     ]
    }
   ],
   "source": [
    "for i, letter in enumerate('onomatopoje'):\n",
    "    if i % 2 == 0:\n",
    "        print(letter.lower())\n",
    "    else:\n",
    "        print(letter.upper())\n",
    "        "
   ]
  },
  {
   "cell_type": "markdown",
   "metadata": {},
   "source": [
    "6. THE ORACLE\n",
    "\n",
    "Create an Oracle, that forecasts which player will be sold to which team in the upcoming season.\n",
    "\n",
    "It works like this:\n",
    "    \n",
    "    1. Asks how many football teams you wish to enter\n",
    "    2. Asks you to enter the name of the teams\n",
    "    3. Asks you to enter name of players (same number as the number of teams)\n",
    "    4. Predicts players to teams => zips them up randomly\n",
    "    \n",
    "    "
   ]
  },
  {
   "cell_type": "code",
   "execution_count": 76,
   "metadata": {},
   "outputs": [
    {
     "name": "stdout",
     "output_type": "stream",
     "text": [
      "How many football teams you wish to enter?\n",
      "3\n",
      "Enter the name of the teams\n",
      "QQQ\n",
      "WWW\n",
      "EEE\n",
      "Enter name of players\n",
      "aaa\n",
      "sss\n",
      "dd\n",
      "{('EEE', 'sss'), ('QQQ', 'aaa'), ('WWW', 'dd')}\n"
     ]
    }
   ],
   "source": [
    "print(\"How many football teams you wish to enter?\")\n",
    "number_of_teams = int_input()\n",
    "\n",
    "print(\"Enter the name of the teams\")\n",
    "teams = []\n",
    "for i in range(number_of_teams):\n",
    "    teams.append(input())\n",
    "    \n",
    "print(\"Enter name of players\")\n",
    "players = []\n",
    "for i in range(number_of_teams):\n",
    "    players.append(input())\n",
    "    \n",
    "random.shuffle(teams)\n",
    "random.shuffle(players)\n",
    "\n",
    "teams_and_players = zip(teams, players)\n",
    "\n",
    "print(set(teams_and_players))"
   ]
  },
  {
   "cell_type": "markdown",
   "metadata": {},
   "source": [
    "7. PYTHAGORAS\n",
    "\n",
    "Using list comprehension, take sides a,b from legs[], and create list containing the size of the corresponding hypotenuse (prepona). \n"
   ]
  },
  {
   "cell_type": "code",
   "execution_count": 78,
   "metadata": {},
   "outputs": [
    {
     "data": {
      "text/plain": [
       "[5.830951894845301, 13.892443989449804, 5.656854249492381, 3.0]"
      ]
     },
     "execution_count": 78,
     "metadata": {},
     "output_type": "execute_result"
    }
   ],
   "source": [
    "legs = [(5, 3), (7, 12), (4, 4), (5**0.5, 2)]\n",
    "hypotenuses = [(a**2+b**2)**0.5 for a, b in legs]\n",
    "hypotenuses"
   ]
  }
 ],
 "metadata": {
  "kernelspec": {
   "display_name": "Python 3 (ipykernel)",
   "language": "python",
   "name": "python3"
  },
  "language_info": {
   "codemirror_mode": {
    "name": "ipython",
    "version": 3
   },
   "file_extension": ".py",
   "mimetype": "text/x-python",
   "name": "python",
   "nbconvert_exporter": "python",
   "pygments_lexer": "ipython3",
   "version": "3.9.12"
  }
 },
 "nbformat": 4,
 "nbformat_minor": 2
}
