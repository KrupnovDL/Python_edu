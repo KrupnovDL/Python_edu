{
 "cells": [
  {
   "cell_type": "markdown",
   "metadata": {},
   "source": [
    "Welcome to another homework! The purpose is to test and practice your understanding of the current topic.\n",
    "\n",
    "Once you have done all of them, send me your solutions.\n",
    "\n",
    "Now we will combine all the knowledge you gained so far.\n",
    "\n",
    "USE FOR LOOPS for all exercises.\n",
    "\n",
    "\n",
    "FOR LOOPS\n",
    "\n",
    "1. For every letter in list1, print out True if the letter is in the str1, and False otherwise. Capitalization should not matter, so c=C."
   ]
  },
  {
   "cell_type": "code",
   "execution_count": 7,
   "metadata": {},
   "outputs": [],
   "source": [
    "list1 = ['a', 'b', 'c', 'd', 'e', 'f', 'g', 'h', 'i']\n",
    "str1 = 'Congratulations'"
   ]
  },
  {
   "cell_type": "markdown",
   "metadata": {},
   "source": [
    "2. For numbers from 1 to 100 print out every number that is the multiple of 5 or 3. Each number should occur only once!\n",
    "\n",
    "HINT: read more about range() function here https://docs.python.org/3/library/stdtypes.html?highlight=range#range"
   ]
  },
  {
   "cell_type": "code",
   "execution_count": null,
   "metadata": {},
   "outputs": [],
   "source": []
  },
  {
   "cell_type": "markdown",
   "metadata": {},
   "source": [
    "3. Using for loop, create a list that contains only odd numbers up to 50."
   ]
  },
  {
   "cell_type": "code",
   "execution_count": 10,
   "metadata": {},
   "outputs": [],
   "source": [
    "list2 = []"
   ]
  },
  {
   "cell_type": "markdown",
   "metadata": {},
   "source": [
    "4. Using for loop, print out every fourth letter of sentence1. What other method can you use? "
   ]
  },
  {
   "cell_type": "code",
   "execution_count": 22,
   "metadata": {},
   "outputs": [],
   "source": [
    "sentence1 = 'This is not the longest sentence in the world, but it proves my point.'"
   ]
  },
  {
   "cell_type": "markdown",
   "metadata": {},
   "source": [
    "5. Now again use sentence1, and delete all non-alphabetic characters from it.\n",
    "\n",
    "HINT: read more about isalpha() https://docs.python.org/3/library/stdtypes.html?highlight=isalpha#str.isalpha"
   ]
  },
  {
   "cell_type": "code",
   "execution_count": null,
   "metadata": {},
   "outputs": [],
   "source": []
  },
  {
   "cell_type": "markdown",
   "metadata": {},
   "source": [
    "6. Let's go to tuples unpacking. For each tuple in list3, print out the sum of the numbers it contains. "
   ]
  },
  {
   "cell_type": "code",
   "execution_count": 15,
   "metadata": {},
   "outputs": [],
   "source": [
    "list3 = [(1,1,2), (1,2,3), (4,3,5), (9,2,0)]"
   ]
  },
  {
   "cell_type": "markdown",
   "metadata": {},
   "source": [
    "7. Iterate on sorted values of dict1, and print out only the values, which contain the letter 'a' or 'u'."
   ]
  },
  {
   "cell_type": "code",
   "execution_count": 19,
   "metadata": {},
   "outputs": [],
   "source": [
    "dict1 = {'k1':'melon', 'k2':'orange', 'k3':'cucumber', 'k4':'celery', 'k5':'pomegranate'}"
   ]
  },
  {
   "cell_type": "markdown",
   "metadata": {},
   "source": [
    "8. If we list all the natural numbers below 10 that are multiples of 3 or 5, we get 3, 5, 6 and 9. The sum of these multiples is 23.\n",
    "Find the sum of all the multiples of 3 or 5 below 1000. \n",
    "\n",
    "There are multiple approaches for resolving this. Use for loop, and if you want, think of a better solution. \n",
    "\n",
    "HINT: result is 233168\n"
   ]
  },
  {
   "cell_type": "code",
   "execution_count": null,
   "metadata": {},
   "outputs": [],
   "source": []
  },
  {
   "cell_type": "markdown",
   "metadata": {},
   "source": [
    "9. A palindromic number reads the same both ways; 11,121,313, etc. Create a list consisting of all palindromes lower than 1000."
   ]
  },
  {
   "cell_type": "code",
   "execution_count": null,
   "metadata": {},
   "outputs": [],
   "source": []
  },
  {
   "cell_type": "markdown",
   "metadata": {},
   "source": [
    "10. Use list4 and list5 to print out the english equivalent of numbers 21,22,23....59. Don't forget to include the '-' character, i.e. twenty-one.\n",
    "\n",
    "HINT: use a for loop inside another for loop!"
   ]
  },
  {
   "cell_type": "code",
   "execution_count": 24,
   "metadata": {},
   "outputs": [],
   "source": [
    "list4 = ['twenty', 'thirty', 'forty', 'fifty']\n",
    "list5 = ['one', 'two', 'three', 'four', 'five', 'six', 'seven', 'eight', 'nine']"
   ]
  },
  {
   "cell_type": "code",
   "execution_count": null,
   "metadata": {},
   "outputs": [],
   "source": []
  }
 ],
 "metadata": {
  "kernelspec": {
   "display_name": "Python 3",
   "language": "python",
   "name": "python3"
  },
  "language_info": {
   "codemirror_mode": {
    "name": "ipython",
    "version": 3
   },
   "file_extension": ".py",
   "mimetype": "text/x-python",
   "name": "python",
   "nbconvert_exporter": "python",
   "pygments_lexer": "ipython3",
   "version": "3.7.4"
  }
 },
 "nbformat": 4,
 "nbformat_minor": 2
}
