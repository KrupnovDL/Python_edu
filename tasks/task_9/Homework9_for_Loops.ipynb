{
 "cells": [
  {
   "cell_type": "markdown",
   "metadata": {},
   "source": [
    "Welcome to another homework! The purpose is to test and practice your understanding of the current topic.\n",
    "\n",
    "Once you have done all of them, send me your solutions.\n",
    "\n",
    "Now we will combine all the knowledge you gained so far.\n",
    "\n",
    "USE FOR LOOPS for all exercises.\n",
    "\n",
    "\n",
    "FOR LOOPS\n",
    "\n",
    "1. For every letter in list1, print out True if the letter is in the str1, and False otherwise. Capitalization should not matter, so c=C."
   ]
  },
  {
   "cell_type": "code",
   "execution_count": 1,
   "metadata": {},
   "outputs": [
    {
     "name": "stdout",
     "output_type": "stream",
     "text": [
      "True\n",
      "False\n",
      "True\n",
      "False\n",
      "False\n",
      "False\n",
      "True\n",
      "False\n",
      "True\n"
     ]
    }
   ],
   "source": [
    "list1 = ['a', 'b', 'c', 'd', 'e', 'f', 'g', 'h', 'i']\n",
    "str1 = 'Congratulations'\n",
    "for letter in list1:\n",
    "    if letter in str1.lower():\n",
    "        print(True)\n",
    "    else:\n",
    "        print(False)"
   ]
  },
  {
   "cell_type": "markdown",
   "metadata": {},
   "source": [
    "2. For numbers from 1 to 100 print out every number that is the multiple of 5 or 3. Each number should occur only once!\n",
    "\n",
    "HINT: read more about range() function here https://docs.python.org/3/library/stdtypes.html?highlight=range#range"
   ]
  },
  {
   "cell_type": "code",
   "execution_count": 4,
   "metadata": {},
   "outputs": [
    {
     "name": "stdout",
     "output_type": "stream",
     "text": [
      "3\n",
      "5\n",
      "6\n",
      "9\n",
      "10\n",
      "12\n",
      "15\n",
      "18\n",
      "20\n",
      "21\n",
      "24\n",
      "25\n",
      "27\n",
      "30\n",
      "33\n",
      "35\n",
      "36\n",
      "39\n",
      "40\n",
      "42\n",
      "45\n",
      "48\n",
      "50\n",
      "51\n",
      "54\n",
      "55\n",
      "57\n",
      "60\n",
      "63\n",
      "65\n",
      "66\n",
      "69\n",
      "70\n",
      "72\n",
      "75\n",
      "78\n",
      "80\n",
      "81\n",
      "84\n",
      "85\n",
      "87\n",
      "90\n",
      "93\n",
      "95\n",
      "96\n",
      "99\n",
      "100\n"
     ]
    }
   ],
   "source": [
    "for number in range(1, 101):\n",
    "    if number % 5 == 0:\n",
    "        print(number)\n",
    "    elif number % 3 == 0:\n",
    "        print (number)"
   ]
  },
  {
   "cell_type": "markdown",
   "metadata": {},
   "source": [
    "3. Using for loop, create a list that contains only odd numbers up to 50."
   ]
  },
  {
   "cell_type": "code",
   "execution_count": 6,
   "metadata": {},
   "outputs": [
    {
     "name": "stdout",
     "output_type": "stream",
     "text": [
      "[1, 3, 5, 7, 9, 11, 13, 15, 17, 19, 21, 23, 25, 27, 29, 31, 33, 35, 37, 39, 41, 43, 45, 47, 49]\n"
     ]
    }
   ],
   "source": [
    "list2 = []\n",
    "for number in range (1, 51):\n",
    "    if number % 2 != 0:\n",
    "        list2.append(number)\n",
    "print(list2)"
   ]
  },
  {
   "cell_type": "markdown",
   "metadata": {},
   "source": [
    "4. Using for loop, print out every fourth letter of sentence1. What other method can you use? "
   ]
  },
  {
   "cell_type": "code",
   "execution_count": 20,
   "metadata": {},
   "outputs": [
    {
     "name": "stdout",
     "output_type": "stream",
     "text": [
      "sgtelbirsn\n",
      "sgtelbirsn\n"
     ]
    }
   ],
   "source": [
    "sentence1 = 'This is not the longest sentence in the world, but it proves my point.'\n",
    "i = 0\n",
    "for index in range(3, len(sentence1), 4):\n",
    "    if sentence1[index] != \" \":\n",
    "        print(sentence1[index], end=\"\")    \n",
    "print()\n",
    "\n",
    "#or\n",
    "\n",
    "print(sentence1[3::4].replace(\" \", \"\"))"
   ]
  },
  {
   "cell_type": "markdown",
   "metadata": {},
   "source": [
    "5. Now again use sentence1, and delete all non-alphabetic characters from it.\n",
    "\n",
    "HINT: read more about isalpha() https://docs.python.org/3/library/stdtypes.html?highlight=isalpha#str.isalpha"
   ]
  },
  {
   "cell_type": "code",
   "execution_count": 25,
   "metadata": {},
   "outputs": [
    {
     "data": {
      "text/plain": [
       "'Thisisnotthelongestsentenceintheworldbutitprovesmypoint'"
      ]
     },
     "execution_count": 25,
     "metadata": {},
     "output_type": "execute_result"
    }
   ],
   "source": [
    "for letter in sentence1:\n",
    "    if not letter.isalpha():\n",
    "        sentence1 = sentence1.replace(letter, \"\")\n",
    "sentence1"
   ]
  },
  {
   "cell_type": "markdown",
   "metadata": {},
   "source": [
    "6. Let's go to tuples unpacking. For each tuple in list3, print out the sum of the numbers it contains. "
   ]
  },
  {
   "cell_type": "code",
   "execution_count": 26,
   "metadata": {},
   "outputs": [
    {
     "name": "stdout",
     "output_type": "stream",
     "text": [
      "4\n",
      "6\n",
      "12\n",
      "11\n"
     ]
    }
   ],
   "source": [
    "list3 = [(1,1,2), (1,2,3), (4,3,5), (9,2,0)]\n",
    "for (x, y, z) in list3:\n",
    "    print(x + y + z)"
   ]
  },
  {
   "cell_type": "markdown",
   "metadata": {},
   "source": [
    "7. Iterate on sorted values of dict1, and print out only the values, which contain the letter 'a' or 'u'."
   ]
  },
  {
   "cell_type": "code",
   "execution_count": 27,
   "metadata": {},
   "outputs": [
    {
     "name": "stdout",
     "output_type": "stream",
     "text": [
      "orange\n",
      "cucumber\n",
      "pomegranate\n"
     ]
    }
   ],
   "source": [
    "dict1 = {'k1':'melon', 'k2':'orange', 'k3':'cucumber', 'k4':'celery', 'k5':'pomegranate'}\n",
    "for value in dict1.values():\n",
    "    if 'a' in value or 'u' in value:\n",
    "        print(value)"
   ]
  },
  {
   "cell_type": "markdown",
   "metadata": {},
   "source": [
    "8. If we list all the natural numbers below 10 that are multiples of 3 or 5, we get 3, 5, 6 and 9. The sum of these multiples is 23.\n",
    "Find the sum of all the multiples of 3 or 5 below 1000. \n",
    "\n",
    "There are multiple approaches for resolving this. Use for loop, and if you want, think of a better solution. \n",
    "\n",
    "HINT: result is 233168\n"
   ]
  },
  {
   "cell_type": "code",
   "execution_count": 32,
   "metadata": {},
   "outputs": [
    {
     "data": {
      "text/plain": [
       "233168"
      ]
     },
     "execution_count": 32,
     "metadata": {},
     "output_type": "execute_result"
    }
   ],
   "source": [
    "result = 0\n",
    "for number in range(3, 1000):\n",
    "    if number % 3 == 0 or number % 5 == 0:\n",
    "        result += number\n",
    "result"
   ]
  },
  {
   "cell_type": "markdown",
   "metadata": {},
   "source": [
    "9. A palindromic number reads the same both ways; 11,121,313, etc. Create a list consisting of all palindromes lower than 1000."
   ]
  },
  {
   "cell_type": "code",
   "execution_count": 4,
   "metadata": {},
   "outputs": [
    {
     "name": "stdout",
     "output_type": "stream",
     "text": [
      "[0, 1, 2, 3, 4, 5, 6, 7, 8, 9, 11, 22, 33, 44, 55, 66, 77, 88, 99, 101, 111, 121, 131, 141, 151, 161, 171, 181, 191, 202, 212, 222, 232, 242, 252, 262, 272, 282, 292, 303, 313, 323, 333, 343, 353, 363, 373, 383, 393, 404, 414, 424, 434, 444, 454, 464, 474, 484, 494, 505, 515, 525, 535, 545, 555, 565, 575, 585, 595, 606, 616, 626, 636, 646, 656, 666, 676, 686, 696, 707, 717, 727, 737, 747, 757, 767, 777, 787, 797, 808, 818, 828, 838, 848, 858, 868, 878, 888, 898, 909, 919, 929, 939, 949, 959, 969, 979, 989, 999]\n",
      "[0, 1, 2, 3, 4, 5, 6, 7, 8, 9, 11, 22, 33, 44, 55, 66, 77, 88, 99, 101, 111, 121, 131, 141, 151, 161, 171, 181, 191, 202, 212, 222, 232, 242, 252, 262, 272, 282, 292, 303, 313, 323, 333, 343, 353, 363, 373, 383, 393, 404, 414, 424, 434, 444, 454, 464, 474, 484, 494, 505, 515, 525, 535, 545, 555, 565, 575, 585, 595, 606, 616, 626, 636, 646, 656, 666, 676, 686, 696, 707, 717, 727, 737, 747, 757, 767, 777, 787, 797, 808, 818, 828, 838, 848, 858, 868, 878, 888, 898, 909, 919, 929, 939, 949, 959, 969, 979, 989, 999]\n"
     ]
    }
   ],
   "source": [
    "palindromic_numbers = []\n",
    "number = 0\n",
    "while number < 1000: # Well it's not for\n",
    "    number_str = str(number)\n",
    "    if len(number_str) < 2:\n",
    "        palindromic_numbers.append(number)\n",
    "    else:\n",
    "        for index in range(len(number_str) // 2):\n",
    "            if number_str[index] == number_str[-(1+index)]:\n",
    "                palindromic_numbers.append(number)\n",
    "    number += 1\n",
    "print(palindromic_numbers)           \n",
    "# or\n",
    "palindromic_numbers = []\n",
    "for number in range(1000):\n",
    "    if str(number) == str(number)[::-1]: # easy and clever - thank you google!\n",
    "      palindromic_numbers.append(number)\n",
    "print(palindromic_numbers)"
   ]
  },
  {
   "cell_type": "markdown",
   "metadata": {},
   "source": [
    "10. Use list4 and list5 to print out the english equivalent of numbers 21,22,23....59. Don't forget to include the '-' character, i.e. twenty-one.\n",
    "\n",
    "HINT: use a for loop inside another for loop!"
   ]
  },
  {
   "cell_type": "code",
   "execution_count": 56,
   "metadata": {},
   "outputs": [
    {
     "name": "stdout",
     "output_type": "stream",
     "text": [
      "twenty-one\n",
      "twenty-two\n",
      "twenty-three\n",
      "twenty-four\n",
      "twenty-five\n",
      "twenty-six\n",
      "twenty-seven\n",
      "twenty-eight\n",
      "twenty-nine\n",
      "thirty\n",
      "thirty-one\n",
      "thirty-two\n",
      "thirty-three\n",
      "thirty-four\n",
      "thirty-five\n",
      "thirty-six\n",
      "thirty-seven\n",
      "thirty-eight\n",
      "thirty-nine\n",
      "forty\n",
      "forty-one\n",
      "forty-two\n",
      "forty-three\n",
      "forty-four\n",
      "forty-five\n",
      "forty-six\n",
      "forty-seven\n",
      "forty-eight\n",
      "forty-nine\n",
      "fifty\n",
      "fifty-one\n",
      "fifty-two\n",
      "fifty-three\n",
      "fifty-four\n",
      "fifty-five\n",
      "fifty-six\n",
      "fifty-seven\n",
      "fifty-eight\n",
      "fifty-nine\n"
     ]
    }
   ],
   "source": [
    "list4 = ['twenty', 'thirty', 'forty', 'fifty']\n",
    "list5 = ['one', 'two', 'three', 'four', 'five', 'six', 'seven', 'eight', 'nine']\n",
    "for number in range(21, 60):\n",
    "    if number % 10 == 0:\n",
    "        print(list4[(number // 10) - 2])\n",
    "    else:\n",
    "        print(f\"{list4[(number // 10) - 2]}-{list5[(number % 10) - 1]}\")"
   ]
  }
 ],
 "metadata": {
  "kernelspec": {
   "display_name": "Python 3 (ipykernel)",
   "language": "python",
   "name": "python3"
  },
  "language_info": {
   "codemirror_mode": {
    "name": "ipython",
    "version": 3
   },
   "file_extension": ".py",
   "mimetype": "text/x-python",
   "name": "python",
   "nbconvert_exporter": "python",
   "pygments_lexer": "ipython3",
   "version": "3.9.12"
  }
 },
 "nbformat": 4,
 "nbformat_minor": 2
}
