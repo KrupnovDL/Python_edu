{
 "cells": [
  {
   "cell_type": "markdown",
   "metadata": {},
   "source": [
    "Welcome to the sixth homework! The purpose is to test and practice your understanding of the current topic.\n",
    "\n",
    "Once you have done all of them, send me your solutions\n",
    "\n",
    "DICTIONARIES"
   ]
  },
  {
   "cell_type": "markdown",
   "metadata": {},
   "source": [
    "1. Create a dictionary consisting of five english words paired with their czech equivallent"
   ]
  },
  {
   "cell_type": "code",
   "execution_count": 3,
   "metadata": {},
   "outputs": [
    {
     "data": {
      "text/plain": [
       "{'virtue': 'ctnost',\n",
       " 'coin': 'mince',\n",
       " 'reverse': 'zvrátit',\n",
       " 'merchant': 'obchodník',\n",
       " 'elect': 'zvolit'}"
      ]
     },
     "execution_count": 3,
     "metadata": {},
     "output_type": "execute_result"
    }
   ],
   "source": [
    "dict0 = {\"virtue\": \"ctnost\", \"coin\": \"mince\", \"reverse\": \"zvrátit\", \"merchant\": \"obchodník\", \"elect\": \"zvolit\"}\n",
    "dict0"
   ]
  },
  {
   "cell_type": "markdown",
   "metadata": {},
   "source": [
    "2. In dict1 add to the word \"small\" the word \"mouse\", and make it uppercase."
   ]
  },
  {
   "cell_type": "code",
   "execution_count": 13,
   "metadata": {},
   "outputs": [
    {
     "name": "stdout",
     "output_type": "stream",
     "text": [
      "{1: 'big dog', 2: 'nice cat', 3: 'small MOUSE', 4: 'white rabbit'}\n",
      "{1: 'big dog', 2: 'nice cat', 3: 'SMALL MOUSE', 4: 'white rabbit'}\n"
     ]
    }
   ],
   "source": [
    "dict1 = {1:'big dog', 2:'nice cat', 3:'small', 4:'white rabbit'}\n",
    "dict1[3] += \" mouse\".upper()\n",
    "print(dict1)\n",
    "# or maybe\n",
    "dict1 = {1:'big dog', 2:'nice cat', 3:'small', 4:'white rabbit'}\n",
    "dict1[3] = (dict1[3] + \" mouse\").upper()\n",
    "print(dict1)"
   ]
  },
  {
   "cell_type": "markdown",
   "metadata": {},
   "source": [
    "3. In dict2 multiply the number 7 times 2."
   ]
  },
  {
   "cell_type": "code",
   "execution_count": 14,
   "metadata": {},
   "outputs": [
    {
     "data": {
      "text/plain": [
       "{1: 'hello world',\n",
       " 2: [1, 4],\n",
       " 3: 2,\n",
       " 4: {'six': 6, 'seven': 14, 'eight': 8},\n",
       " 5: (1, 2, 3)}"
      ]
     },
     "execution_count": 14,
     "metadata": {},
     "output_type": "execute_result"
    }
   ],
   "source": [
    "dict2 = {1: 'hello world', 2: [1,4], 3: 2, 4: {'six':6, 'seven':7, 'eight':8}, 5:(1,2,3)}\n",
    "dict2[4]['seven'] *= 2\n",
    "dict2"
   ]
  },
  {
   "cell_type": "markdown",
   "metadata": {},
   "source": [
    "4. Add two more elements to dict3"
   ]
  },
  {
   "cell_type": "code",
   "execution_count": 15,
   "metadata": {},
   "outputs": [
    {
     "data": {
      "text/plain": [
       "{'name': 'John',\n",
       " 'surname': 'Black',\n",
       " 'height': 180,\n",
       " 'mood': 'good',\n",
       " 'number_of_problems': 0}"
      ]
     },
     "execution_count": 15,
     "metadata": {},
     "output_type": "execute_result"
    }
   ],
   "source": [
    "dict3 = {'name':'John', 'surname':'Black', 'height':180}\n",
    "dict3['mood'] = 'good'\n",
    "dict3['number_of_problems'] = 0\n",
    "dict3"
   ]
  },
  {
   "cell_type": "markdown",
   "metadata": {},
   "source": [
    "5. Print the keys, values, and all items of dict3"
   ]
  },
  {
   "cell_type": "code",
   "execution_count": 20,
   "metadata": {},
   "outputs": [
    {
     "name": "stdout",
     "output_type": "stream",
     "text": [
      "dict_keys(['name', 'surname', 'height', 'mood', 'number_of_problems'])\n",
      "dict_values(['John', 'Black', 180, 'good', 0])\n",
      "dict_items([('name', 'John'), ('surname', 'Black'), ('height', 180), ('mood', 'good'), ('number_of_problems', 0)])\n"
     ]
    }
   ],
   "source": [
    "print(dict3.keys())\n",
    "print(dict3.values())\n",
    "print(dict3.items())"
   ]
  },
  {
   "cell_type": "markdown",
   "metadata": {},
   "source": [
    "6. Create a dictionary which consists of numbers 1,2,3,4,5, 6 as keys, and values equal to letter 'a' multiplied by respective key ('a', 'aa','aaa'...)"
   ]
  },
  {
   "cell_type": "code",
   "execution_count": 28,
   "metadata": {},
   "outputs": [
    {
     "data": {
      "text/plain": [
       "{1: 'a', 2: 'aa', 3: 'aaa', 4: 'aaaa', 5: 'aaaaa', 6: 'aaaaaa'}"
      ]
     },
     "execution_count": 28,
     "metadata": {},
     "output_type": "execute_result"
    }
   ],
   "source": [
    "d = {}\n",
    "for number in range(6):\n",
    "    number += 1\n",
    "    d[number] = 'a' * number\n",
    "d"
   ]
  },
  {
   "cell_type": "markdown",
   "metadata": {},
   "source": [
    "7. Translate the following sentence to czech using dict4 \"Hello, this is Anna and Bella.\""
   ]
  },
  {
   "cell_type": "code",
   "execution_count": 51,
   "metadata": {},
   "outputs": [
    {
     "name": "stdout",
     "output_type": "stream",
     "text": [
      "ahoj, tohle je Anna a Bella.\n"
     ]
    }
   ],
   "source": [
    "dict4 = {'and':'a', 'hello':'ahoj', 'is':'je', 'this':'tohle'}\n",
    "print(f\"{dict4['hello']}, {dict4['this']} {dict4['is']} Anna {dict4['and']} Bella.\")"
   ]
  },
  {
   "cell_type": "markdown",
   "metadata": {},
   "source": [
    "8. You are the dictionary master in Campingski and the big boss is asking for your help. \n",
    "\n",
    "   You are supposed to design a dictionary that stores the following data:\n",
    "\n",
    "   => Information about 3 customers - each customer has room number, price per night, and number of nights they are staying\n",
    "   \n",
    "   => Information about 2 employees - each has personal data (name, surname, address), and salary\n",
    "   \n",
    "   => Information about 3 rooms - each has a room number, and a list of equipment of the room (each has at least 2 things)\n",
    "   \n",
    "   Help the big boss to store this data using the dictionaries, lists, and whatever else you find appropriate.\n",
    "   \n",
    "   Make sure same kind of information is compounded logically together, and that it is not too granular."
   ]
  },
  {
   "cell_type": "code",
   "execution_count": 8,
   "metadata": {},
   "outputs": [
    {
     "name": "stdout",
     "output_type": "stream",
     "text": [
      "{'room': 1, 'price_per_night': 100, 'number_of_nights': 2}\n",
      "{'name': 'name 1', 'surname': 'surname 1', 'adress': 'adress 1', 'salary': 100}\n",
      "['thing 1', 'thing 2']\n"
     ]
    }
   ],
   "source": [
    "dict5 = {\"customer\":\n",
    "         {1:\n",
    "          {\"room\": 1, \"price_per_night\": 100, \"number_of_nights\": 2},\n",
    "          2:\n",
    "          {\"room\": 2, \"price_per_night\": 100, \"number_of_nights\": 2},\n",
    "          3:\n",
    "          {\"room\": 3, \"price_per_night\": 100, \"number_of_nights\": 2}\n",
    "         },\n",
    "         \"employee\": \n",
    "         {1: \n",
    "          {\"name\": \"name 1\", \"surname\": \"surname 1\", \"adress\": \"adress 1\", \"salary\": 100}, \n",
    "          2: \n",
    "          {\"name\": \"name 2\", \"surname\": \"surname 2\", \"adress\": \"adress 2\", \"salary\": 100}\n",
    "         }, \n",
    "          \"room\": \n",
    "         {1: [\"thing 1\", \"thing 2\"], \n",
    "          2: [\"thing 1\", \"thing 2\"], \n",
    "          3: [\"thing 1\", \"thing 2\"]}\n",
    "        }\n",
    "print(dict5[\"customer\"][1])\n",
    "print(dict5[\"employee\"][1])\n",
    "print(dict5[\"room\"][1])"
   ]
  }
 ],
 "metadata": {
  "kernelspec": {
   "display_name": "Python 3 (ipykernel)",
   "language": "python",
   "name": "python3"
  },
  "language_info": {
   "codemirror_mode": {
    "name": "ipython",
    "version": 3
   },
   "file_extension": ".py",
   "mimetype": "text/x-python",
   "name": "python",
   "nbconvert_exporter": "python",
   "pygments_lexer": "ipython3",
   "version": "3.9.12"
  }
 },
 "nbformat": 4,
 "nbformat_minor": 2
}
