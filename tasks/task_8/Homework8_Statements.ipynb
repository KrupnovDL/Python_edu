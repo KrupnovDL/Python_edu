{
 "cells": [
  {
   "cell_type": "markdown",
   "metadata": {},
   "source": [
    "Welcome to another homework! The purpose is to test and practice your understanding of the current topic.\n",
    "\n",
    "Once you have done all of them, send me your solutions\n",
    "\n",
    "STATEMENTS"
   ]
  },
  {
   "cell_type": "markdown",
   "metadata": {},
   "source": [
    "1. Check if the last letter of the word 'samosa' is 'a'. Then check if the last letter is 'A'"
   ]
  },
  {
   "cell_type": "code",
   "execution_count": 7,
   "metadata": {},
   "outputs": [
    {
     "name": "stdout",
     "output_type": "stream",
     "text": [
      "last letter - f\n"
     ]
    }
   ],
   "source": [
    "word = \"samosa\"\n",
    "\n",
    "if word[-1] == 'a':\n",
    "    print(\"last letter - a\")\n",
    "elif word[-1] == 'A':\n",
    "    print(\"last letter - A\")\n",
    "else:\n",
    "    print(f\"last letter - {word[-1]}\")"
   ]
  },
  {
   "cell_type": "markdown",
   "metadata": {},
   "source": [
    "2. You are going for a blind date with two girls, Emma and Denise. If they both come, print \"I'm happy!\". \n",
    "   If only Emma came, print 'Good enough', otherwise print 'Hell no'. Test code on the following inputs:\n",
    "         a) emma_came = True\n",
    "            denise_came = True\n",
    "         b) emma_came = True\n",
    "            denise_came = False\n",
    "         c) emma_came = False\n",
    "            denise_came = False"
   ]
  },
  {
   "cell_type": "code",
   "execution_count": 10,
   "metadata": {},
   "outputs": [
    {
     "name": "stdout",
     "output_type": "stream",
     "text": [
      "I'm happy!\n",
      "Good enough\n",
      "Hell no\n"
     ]
    }
   ],
   "source": [
    "def blind_date(emma_came = False, denise_came = False):\n",
    "    if emma_came and denise_came:\n",
    "        print(\"I'm happy!\")\n",
    "    elif emma_came:\n",
    "        print(\"Good enough\")\n",
    "    else:\n",
    "        print(\"Hell no\")\n",
    "\n",
    "# a)\n",
    "emma_came = True\n",
    "denise_came = True\n",
    "blind_date(emma_came, denise_came)\n",
    "\n",
    "# b)\n",
    "emma_came = True\n",
    "denise_came = False\n",
    "blind_date(emma_came, denise_came)\n",
    "\n",
    "# c)\n",
    "emma_came = False\n",
    "denise_came = False\n",
    "blind_date(emma_came, denise_came)"
   ]
  },
  {
   "cell_type": "markdown",
   "metadata": {},
   "source": [
    "3. Create a variable 'animal'. Create code that prints the sound of the animal (be creative, but have at least a cat doing 'Meow' and dog doing 'Whoof!'). \n",
    " \n",
    " Test the code and if you don't know the animal, print 'What does the {animal} say?'\n"
   ]
  },
  {
   "cell_type": "code",
   "execution_count": null,
   "metadata": {},
   "outputs": [],
   "source": []
  },
  {
   "cell_type": "markdown",
   "metadata": {},
   "source": [
    "4. Have two input variables, x and y. If x is bigger than y, print x minus y. Otherwise print x + y."
   ]
  },
  {
   "cell_type": "code",
   "execution_count": null,
   "metadata": {},
   "outputs": [],
   "source": []
  },
  {
   "cell_type": "markdown",
   "metadata": {},
   "source": [
    "5. You are going shopping to IKEA for a chair and a bed. You are willing to pay up to 1000 CZK for a chair and up to 3500 CZK for a bed, but you have to fit in the budget of 4000 CZK.  \n",
    "Write a code that will check these conditions for you."
   ]
  },
  {
   "cell_type": "code",
   "execution_count": null,
   "metadata": {},
   "outputs": [],
   "source": []
  },
  {
   "cell_type": "markdown",
   "metadata": {},
   "source": [
    "6. This one is to test nested 'if' statements.\n",
    "\n",
    "   You are going to a restaurant and are a very picky eater. You only eat the following things: \n",
    "   \n",
    "       -beef with eiter potatoes or salad, not both\n",
    "       -chicken alone\n",
    "       -fish with chips, or salad and chips.\n",
    "   There are three possible main items on menu - meat (beef, chicken, lamb or fish), side (potatoes, chips, rice) or salad (True, False). \n",
    "   \n",
    "   At a certain point in time the restauran only has one kind of meat, one kind of side dish, and either has or doesn't have salad.\n",
    "   \n",
    "   Write the decision process, print the order, and test your code on these inputs:\n",
    "   \n",
    "       a) meat = 'lamb'\n",
    "          side = 'chips'\n",
    "          salad = False\n",
    "   \n",
    "       b) meat = 'beef'\n",
    "          side = 'potatoes'\n",
    "          salad = True\n",
    "   \n",
    "       c) meat = 'beef'\n",
    "          side = 'rice'\n",
    "          salad = False\n",
    "      \n",
    "       d) meat = 'chicken'\n",
    "          side = 'chips'\n",
    "          salad = False\n",
    "      \n",
    "       e) meat = 'fish'\n",
    "          side = 'chips'\n",
    "          salat = False\n",
    "   \n",
    "       f) meat = 'fish'\n",
    "          side = 'chips'\n",
    "          salat = True"
   ]
  },
  {
   "cell_type": "code",
   "execution_count": null,
   "metadata": {},
   "outputs": [],
   "source": []
  }
 ],
 "metadata": {
  "kernelspec": {
   "display_name": "Python 3 (ipykernel)",
   "language": "python",
   "name": "python3"
  },
  "language_info": {
   "codemirror_mode": {
    "name": "ipython",
    "version": 3
   },
   "file_extension": ".py",
   "mimetype": "text/x-python",
   "name": "python",
   "nbconvert_exporter": "python",
   "pygments_lexer": "ipython3",
   "version": "3.9.12"
  }
 },
 "nbformat": 4,
 "nbformat_minor": 2
}
