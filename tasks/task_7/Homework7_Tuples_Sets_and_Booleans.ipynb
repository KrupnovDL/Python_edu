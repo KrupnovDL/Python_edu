{
 "cells": [
  {
   "cell_type": "markdown",
   "metadata": {},
   "source": [
    "Welcome to another homework! The purpose is to test and practice your understanding of the current topic.\n",
    "\n",
    "Once you have done all of them, send me your solutions\n",
    "\n",
    "TUPLES\n",
    "\n",
    "1. Create a tuple and a list both containing elements 1,2,3,4,5. Try to change the element 3 to 9. What happens? Why?"
   ]
  },
  {
   "cell_type": "code",
   "execution_count": 2,
   "metadata": {},
   "outputs": [
    {
     "name": "stdout",
     "output_type": "stream",
     "text": [
      "[1, 2, 9, 4, 5]\n"
     ]
    },
    {
     "ename": "TypeError",
     "evalue": "'tuple' object does not support item assignment",
     "output_type": "error",
     "traceback": [
      "\u001b[1;31m---------------------------------------------------------------------------\u001b[0m",
      "\u001b[1;31mTypeError\u001b[0m                                 Traceback (most recent call last)",
      "Input \u001b[1;32mIn [2]\u001b[0m, in \u001b[0;36m<cell line: 5>\u001b[1;34m()\u001b[0m\n\u001b[0;32m      3\u001b[0m list0[\u001b[38;5;241m2\u001b[39m] \u001b[38;5;241m=\u001b[39m \u001b[38;5;241m9\u001b[39m\n\u001b[0;32m      4\u001b[0m \u001b[38;5;28mprint\u001b[39m(list0)\n\u001b[1;32m----> 5\u001b[0m tuple0[\u001b[38;5;241m2\u001b[39m] \u001b[38;5;241m=\u001b[39m \u001b[38;5;241m9\u001b[39m\n\u001b[0;32m      6\u001b[0m \u001b[38;5;28mprint\u001b[39m(tuple0)\n",
      "\u001b[1;31mTypeError\u001b[0m: 'tuple' object does not support item assignment"
     ]
    }
   ],
   "source": [
    "tuple0 = (1,2,3,4,5)\n",
    "list0 = [1,2,3,4,5]\n",
    "list0[2] = 9\n",
    "print(list0)\n",
    "tuple0[2] = 9 # tuple is immutable\n",
    "print(tuple0)"
   ]
  },
  {
   "cell_type": "markdown",
   "metadata": {},
   "source": [
    "2. How many times is the number 2 in tuple1? What is the index of number 3?"
   ]
  },
  {
   "cell_type": "code",
   "execution_count": 5,
   "metadata": {},
   "outputs": [
    {
     "name": "stdout",
     "output_type": "stream",
     "text": [
      "3\n",
      "2\n"
     ]
    }
   ],
   "source": [
    "tuple1 = (1,2,3,2,4,5,6,2,3,22)\n",
    "print(tuple1.count(2))\n",
    "print(tuple1.index(3))"
   ]
  },
  {
   "cell_type": "markdown",
   "metadata": {},
   "source": [
    "\n",
    "SETS"
   ]
  },
  {
   "cell_type": "markdown",
   "metadata": {},
   "source": [
    "3. Create a set from list that contains every letter in your name (separately)."
   ]
  },
  {
   "cell_type": "code",
   "execution_count": 11,
   "metadata": {},
   "outputs": [
    {
     "name": "stdout",
     "output_type": "stream",
     "text": [
      "['D', 'm', 'i', 't', 'r', 'i', 'i']\n",
      "{'i', 'r', 'm', 't', 'D'}\n"
     ]
    }
   ],
   "source": [
    "name = \"Dmitrii\"\n",
    "name_list = list(name)\n",
    "print(name_list)\n",
    "name_set = set(name_list)\n",
    "print(name_set)"
   ]
  },
  {
   "cell_type": "markdown",
   "metadata": {},
   "source": [
    "Additionaly to the main document, check set operations here \n",
    "https://docs.python.org/2/library/sets.html\n",
    "\n",
    "4. Is set1 subset of set2? "
   ]
  },
  {
   "cell_type": "code",
   "execution_count": 17,
   "metadata": {},
   "outputs": [
    {
     "name": "stdout",
     "output_type": "stream",
     "text": [
      "True\n",
      "True\n"
     ]
    }
   ],
   "source": [
    "set1 = {4,5,6}\n",
    "set2 = {1,2,3,4,5,6}\n",
    "print(set1.issubset(set2))\n",
    "# or\n",
    "print(set1 <= set2)"
   ]
  },
  {
   "cell_type": "markdown",
   "metadata": {},
   "source": [
    "5. Can there be such two sets, that they are subsets of each other? If yes, write them down."
   ]
  },
  {
   "cell_type": "code",
   "execution_count": 18,
   "metadata": {},
   "outputs": [
    {
     "name": "stdout",
     "output_type": "stream",
     "text": [
      "True\n",
      "True\n"
     ]
    }
   ],
   "source": [
    "# Yes\n",
    "a_set = {1, 2, 3}\n",
    "another_set = {1, 2, 3}\n",
    "print(a_set.issubset(another_set))\n",
    "print(another_set.issubset(a_set))"
   ]
  },
  {
   "cell_type": "markdown",
   "metadata": {},
   "source": [
    "6. Create a new set containing all elements from sets \"lower\" and \"upper\"."
   ]
  },
  {
   "cell_type": "code",
   "execution_count": 24,
   "metadata": {},
   "outputs": [
    {
     "name": "stdout",
     "output_type": "stream",
     "text": [
      "{'c', 'a', 'b', 'B', 'd', 'D', 'C', 'A'}\n",
      "{'c', 'a', 'b', 'B', 'd', 'D', 'C', 'A'}\n"
     ]
    }
   ],
   "source": [
    "lower = {'a', 'b', 'c', 'd'}\n",
    "upper = {'A', 'B', 'C', 'D'}\n",
    "lower_and_upper = lower | upper\n",
    "print(lower_and_upper)\n",
    "# or\n",
    "lower_and_upper = lower.union(upper)\n",
    "print(lower_and_upper)"
   ]
  },
  {
   "cell_type": "markdown",
   "metadata": {},
   "source": [
    "7. From set3 and set4 create set5 which will contain elements that are either in set3 or set4, but not both.\n",
    "\n",
    "   Then create again from set3 and set4 new set that contains all elements that are in set3 but none of the ones that are also in set4.\n",
    "   \n",
    "   Lastly, create new set that only contains elements that are in both set3 and set4."
   ]
  },
  {
   "cell_type": "code",
   "execution_count": 28,
   "metadata": {},
   "outputs": [
    {
     "name": "stdout",
     "output_type": "stream",
     "text": [
      "{40, 50, 20, 89, 30}\n",
      "{40, 50, 20, 89, 30}\n"
     ]
    }
   ],
   "source": [
    "set3 = {10, 20, 30, 35, 40}\n",
    "set4 = {10, 35, 50, 89}\n",
    "set5 = set3 ^ set4\n",
    "print(set5)\n",
    "# or\n",
    "set5 = set3.symmetric_difference(set4)\n",
    "print(set5)"
   ]
  },
  {
   "cell_type": "markdown",
   "metadata": {},
   "source": [
    "8. Try to remove number 5 from set6. What happens? Why?\n",
    "\n",
    "   Now try to remove number 6."
   ]
  },
  {
   "cell_type": "code",
   "execution_count": 31,
   "metadata": {},
   "outputs": [
    {
     "name": "stdout",
     "output_type": "stream",
     "text": [
      "{82, 99, 100, 15}\n"
     ]
    },
    {
     "ename": "KeyError",
     "evalue": "5",
     "output_type": "error",
     "traceback": [
      "\u001b[1;31m---------------------------------------------------------------------------\u001b[0m",
      "\u001b[1;31mKeyError\u001b[0m                                  Traceback (most recent call last)",
      "Input \u001b[1;32mIn [31]\u001b[0m, in \u001b[0;36m<cell line: 4>\u001b[1;34m()\u001b[0m\n\u001b[0;32m      2\u001b[0m set6\u001b[38;5;241m.\u001b[39mremove(\u001b[38;5;241m6\u001b[39m)\n\u001b[0;32m      3\u001b[0m \u001b[38;5;28mprint\u001b[39m(set6)\n\u001b[1;32m----> 4\u001b[0m \u001b[43mset6\u001b[49m\u001b[38;5;241;43m.\u001b[39;49m\u001b[43mremove\u001b[49m\u001b[43m(\u001b[49m\u001b[38;5;241;43m5\u001b[39;49m\u001b[43m)\u001b[49m\n",
      "\u001b[1;31mKeyError\u001b[0m: 5"
     ]
    }
   ],
   "source": [
    "set6 = {99, 82, 15, 6, 100}\n",
    "set6.remove(6)\n",
    "print(set6)\n",
    "set6.remove(5) # KeyError becouse 5 is not present in set6"
   ]
  },
  {
   "cell_type": "markdown",
   "metadata": {},
   "source": [
    "\n",
    "BOOLEANS\n"
   ]
  },
  {
   "cell_type": "markdown",
   "metadata": {},
   "source": [
    "For the following questions, we will get a preview of comparison operators. In the table below, a=3 and b=4.\n",
    "\n",
    "<table class=\"table table-bordered\">\n",
    "<tr>\n",
    "<th style=\"width:10%\">Operator</th><th style=\"width:45%\">Description</th><th>Example</th>\n",
    "</tr>\n",
    "<tr>\n",
    "<td>==</td>\n",
    "<td>If the values of two operands are equal, then the condition becomes true.</td>\n",
    "<td> (a == b) is not true.</td>\n",
    "</tr>\n",
    "<tr>\n",
    "<td>!=</td>\n",
    "<td>If values of two operands are not equal, then condition becomes true.</td>\n",
    "<td> (a != b) is true.</td>\n",
    "</tr>\n",
    "<tr>\n",
    "<td>&gt;</td>\n",
    "<td>If the value of left operand is greater than the value of right operand, then condition becomes true.</td>\n",
    "<td> (a &gt; b) is not true.</td>\n",
    "</tr>\n",
    "<tr>\n",
    "<td>&lt;</td>\n",
    "<td>If the value of left operand is less than the value of right operand, then condition becomes true.</td>\n",
    "<td> (a &lt; b) is true.</td>\n",
    "</tr>\n",
    "<tr>\n",
    "<td>&gt;=</td>\n",
    "<td>If the value of left operand is greater than or equal to the value of right operand, then condition becomes true.</td>\n",
    "<td> (a &gt;= b) is not true. </td>\n",
    "</tr>\n",
    "<tr>\n",
    "<td>&lt;=</td>\n",
    "<td>If the value of left operand is less than or equal to the value of right operand, then condition becomes true.</td>\n",
    "<td> (a &lt;= b) is true. </td>\n",
    "</tr>\n",
    "</table>\n",
    "\n",
    "Logical operands are AND and OR explained here https://www.onlinemathlearning.com/truth-tables.html\n",
    "Parenthesis encapsulate separate statements. "
   ]
  },
  {
   "cell_type": "markdown",
   "metadata": {},
   "source": [
    "9. Check if 8 is bigger than 7"
   ]
  },
  {
   "cell_type": "code",
   "execution_count": 32,
   "metadata": {},
   "outputs": [
    {
     "data": {
      "text/plain": [
       "True"
      ]
     },
     "execution_count": 32,
     "metadata": {},
     "output_type": "execute_result"
    }
   ],
   "source": [
    "8 > 7"
   ]
  },
  {
   "cell_type": "markdown",
   "metadata": {},
   "source": [
    "10. Check if list1 and list2 are the same. Make sets of these lists and compare them. What is the difference? Why?"
   ]
  },
  {
   "cell_type": "code",
   "execution_count": 34,
   "metadata": {},
   "outputs": [
    {
     "name": "stdout",
     "output_type": "stream",
     "text": [
      "False\n",
      "True\n"
     ]
    }
   ],
   "source": [
    "list1 = ['Jane', 'Mary', 'Nina', 'Daisy']\n",
    "list2 = ['Mary', 'Jane', 'Daisy', 'Nina']\n",
    "print(list1 == list2) # order matters\n",
    "print(set(list1) == set(list2)) # order doesn't matter"
   ]
  },
  {
   "cell_type": "markdown",
   "metadata": {},
   "source": [
    "11. Try to evaluate the following statements in your head/ on paper. Afterwards, check in python.\n",
    "\n",
    "    Is the following True or False?   \n",
    "    \n",
    "    a = 1, b = 2, c = 3, d = 4\n",
    "    \n",
    "    a) (a == 1 ) and (b == 2)\n",
    "    \n",
    "    b) (a == 1 ) or (b == 1)\n",
    "    \n",
    "    c) (a == 1 ) and ( (b == 1) or (c == 1) )\n",
    "    \n",
    "    d) ( c + d > a + b) and ( a != b )\n",
    "    \n",
    "    e) ( a == b ) != True\n",
    "    \n",
    "    f) True != False and False == ( ( b > d ) or (a == 0) )\n",
    "    "
   ]
  },
  {
   "cell_type": "code",
   "execution_count": 41,
   "metadata": {},
   "outputs": [
    {
     "name": "stdout",
     "output_type": "stream",
     "text": [
      "a) True\n",
      "b) True\n",
      "c) False\n",
      "d) True\n",
      "e) True\n",
      "f) True\n"
     ]
    }
   ],
   "source": [
    "a = 1; b = 2; c = 3; d = 4\n",
    "print(f\"a) {(a == 1 ) and (b == 2)}\")\n",
    "print(f\"b) {(a == 1 ) or (b == 1)}\")\n",
    "print(f\"c) {(a == 1 ) and ( (b == 1) or (c == 1) )}\")\n",
    "print(f\"d) {( c + d > a + b) and ( a != b )}\")\n",
    "print(f\"e) {( a == b ) != True}\")\n",
    "print(f\"f) {True != False and False == ( ( b > d ) or (a == 0) )}\")"
   ]
  }
 ],
 "metadata": {
  "kernelspec": {
   "display_name": "Python 3 (ipykernel)",
   "language": "python",
   "name": "python3"
  },
  "language_info": {
   "codemirror_mode": {
    "name": "ipython",
    "version": 3
   },
   "file_extension": ".py",
   "mimetype": "text/x-python",
   "name": "python",
   "nbconvert_exporter": "python",
   "pygments_lexer": "ipython3",
   "version": "3.9.12"
  }
 },
 "nbformat": 4,
 "nbformat_minor": 2
}
