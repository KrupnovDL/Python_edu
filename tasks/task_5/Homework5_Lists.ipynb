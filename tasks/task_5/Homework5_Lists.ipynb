{
 "cells": [
  {
   "cell_type": "markdown",
   "metadata": {},
   "source": [
    "Welcome to the fifth homework! The purpose is to test and practice your understanding of the current topic.\n",
    "\n",
    "Once you have done all of them, send me your solutions"
   ]
  },
  {
   "cell_type": "markdown",
   "metadata": {},
   "source": [
    "LISTS\n",
    "\n",
    "1. Create a list containing three different data types"
   ]
  },
  {
   "cell_type": "code",
   "execution_count": 4,
   "metadata": {},
   "outputs": [],
   "source": [
    "list0 = [1, 1.0, '1']"
   ]
  },
  {
   "cell_type": "markdown",
   "metadata": {},
   "source": [
    "2. Print all elements from list1 except for the first and the last one."
   ]
  },
  {
   "cell_type": "code",
   "execution_count": 1,
   "metadata": {},
   "outputs": [
    {
     "data": {
      "text/plain": [
       "[2, 3, 4, 5, 6]"
      ]
     },
     "execution_count": 1,
     "metadata": {},
     "output_type": "execute_result"
    }
   ],
   "source": [
    "list1 = [1,2,3,4,5,6,7]\n",
    "list1[1:-1]"
   ]
  },
  {
   "cell_type": "markdown",
   "metadata": {},
   "source": [
    "3. Print out the last two elements of the reversed list2"
   ]
  },
  {
   "cell_type": "code",
   "execution_count": 3,
   "metadata": {},
   "outputs": [
    {
     "data": {
      "text/plain": [
       "['Sheldon', 'Penny']"
      ]
     },
     "execution_count": 3,
     "metadata": {},
     "output_type": "execute_result"
    }
   ],
   "source": [
    "list2 = ['Amy', 'Bernadette', 'Sheldon', 'Penny']\n",
    "list2[-2:]"
   ]
  },
  {
   "cell_type": "markdown",
   "metadata": {},
   "source": [
    "4. Sort list3 and replace the first element by its square root. \n",
    "\n",
    "NOTE: When possible, don't hardcode! Make sure your code is reusable also for different lists."
   ]
  },
  {
   "cell_type": "code",
   "execution_count": 7,
   "metadata": {},
   "outputs": [
    {
     "data": {
      "text/plain": [
       "[3.0, 10, 32, 45, 89]"
      ]
     },
     "execution_count": 7,
     "metadata": {},
     "output_type": "execute_result"
    }
   ],
   "source": [
    "import math\n",
    "list3 = [10,45,89,32,9]\n",
    "list3.sort()\n",
    "list3[0] = math.sqrt(list3[0])\n",
    "list3"
   ]
  },
  {
   "cell_type": "markdown",
   "metadata": {},
   "source": [
    "5. Create a matrix 4x4. Each row will be equal to the previous row times 2. First row is [1,2,3,4], so the matrix will (theoretically) look like this:\n",
    "\n",
    "        1  2  3  4 \n",
    "        2  4  6  8\n",
    "        4  8 12 16\n",
    "        8 16 24 32\n",
    "        \n",
    "Represent the matrix as a list of lists(rows)."
   ]
  },
  {
   "cell_type": "code",
   "execution_count": 66,
   "metadata": {},
   "outputs": [
    {
     "name": "stdout",
     "output_type": "stream",
     "text": [
      "[1, 2, 3, 4]\n",
      "[2, 4, 6, 8]\n",
      "[4, 8, 12, 16]\n",
      "[8, 16, 24, 32]\n",
      "\n",
      "  1  2  3  4\n",
      "  2  4  6  8\n",
      "  4  8 12 16\n",
      "  8 16 24 32"
     ]
    }
   ],
   "source": [
    "row1 = [1,2,3,4]\n",
    "matrix = [row1]\n",
    "\n",
    "for row in range(len(row1)-1):\n",
    "    matrix.append([number*2 for number in matrix[row]])\n",
    "        \n",
    "for i in matrix:\n",
    "    print(i)\n",
    "      \n",
    "lenght = len(str(max(map(max, matrix))))\n",
    "space = \" \"\n",
    "for row in matrix:\n",
    "    print()\n",
    "    for number in row:\n",
    "        print(space + space*(lenght - len(str(number))) + str(number), end = '')"
   ]
  },
  {
   "cell_type": "markdown",
   "metadata": {},
   "source": [
    "6. Using elements from nested list4, print out the following sentence: 'Having 12 cats is too much, but having 3 is OK'"
   ]
  },
  {
   "cell_type": "code",
   "execution_count": 76,
   "metadata": {},
   "outputs": [
    {
     "name": "stdout",
     "output_type": "stream",
     "text": [
      "Having 12 cats is too much, but having 3 is OK\n"
     ]
    }
   ],
   "source": [
    "list4 = [12, 5, 'cats and dogs', [2,3,4]]\n",
    "print(f'Having {list4[0]} {list4[2].split()[0]} is too much, but having {list4[3][1]} is O{chr(list4[1]*15)}')"
   ]
  },
  {
   "cell_type": "markdown",
   "metadata": {},
   "source": [
    "7. Delete the word 'typo' from list5, delete (pop) the last element from the list and append your name to the end of the list."
   ]
  },
  {
   "cell_type": "code",
   "execution_count": 84,
   "metadata": {},
   "outputs": [
    {
     "name": "stdout",
     "output_type": "stream",
     "text": [
      "[34, 'hello', ['this is', 'a '], 45]\n",
      "[34, 'hello', ['this is', 'a ']]\n",
      "[34, 'hello', ['this is', 'a '], 'Dima']\n"
     ]
    }
   ],
   "source": [
    "list5 = [34,'hello', ['this is', 'a typo'], 45]\n",
    "list5[2][1] = list5[2][1].replace(\"typo\", \"\")\n",
    "print(list5)\n",
    "list5.pop()\n",
    "print(list5)\n",
    "list5.append(\"Dima\")\n",
    "print(list5)"
   ]
  },
  {
   "cell_type": "markdown",
   "metadata": {},
   "source": [
    "8. Print out the element 'tricky' from list6"
   ]
  },
  {
   "cell_type": "code",
   "execution_count": 92,
   "metadata": {},
   "outputs": [
    {
     "name": "stdout",
     "output_type": "stream",
     "text": [
      "tricky\n"
     ]
    }
   ],
   "source": [
    "list6 = [12, [[23, 5], 'petty', ['lucky', ['easy', 'tricky', 'damn it']], 'nasty', 4 ]]\n",
    "print(list6[1][2][1][1])"
   ]
  }
 ],
 "metadata": {
  "kernelspec": {
   "display_name": "Python 3 (ipykernel)",
   "language": "python",
   "name": "python3"
  },
  "language_info": {
   "codemirror_mode": {
    "name": "ipython",
    "version": 3
   },
   "file_extension": ".py",
   "mimetype": "text/x-python",
   "name": "python",
   "nbconvert_exporter": "python",
   "pygments_lexer": "ipython3",
   "version": "3.9.12"
  }
 },
 "nbformat": 4,
 "nbformat_minor": 2
}
