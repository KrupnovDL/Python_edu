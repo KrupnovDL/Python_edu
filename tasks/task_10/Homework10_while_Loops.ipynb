{
 "cells": [
  {
   "cell_type": "markdown",
   "metadata": {},
   "source": [
    "Welcome to another homework! The purpose is to test and practice your understanding of the current topic.\n",
    "\n",
    "Once you have done all of them, send me your solutions.\n",
    "\n",
    "USE ONLY WHILE LOOPS!!!\n",
    "\n",
    "WHILE LOOPS"
   ]
  },
  {
   "cell_type": "markdown",
   "metadata": {},
   "source": [
    "1. Let's have number x. While it is bigger than 10 you will print its value, add 1 and floor-divide it by 2. When it is not bigger than 10, print 'I am done here' and finish.\n",
    "    "
   ]
  },
  {
   "cell_type": "code",
   "execution_count": 4,
   "metadata": {},
   "outputs": [],
   "source": [
    "x = 100"
   ]
  },
  {
   "cell_type": "markdown",
   "metadata": {},
   "source": [
    "2. Use the input() function to get input from user. Tell the user to input number 5, and ask for input until he gives you the correct input. "
   ]
  },
  {
   "cell_type": "code",
   "execution_count": null,
   "metadata": {},
   "outputs": [],
   "source": []
  },
  {
   "cell_type": "markdown",
   "metadata": {},
   "source": [
    "3. Let's play a small game. Get a number from user between 1-20. \n",
    "\n",
    "If the number is one, break from the loop and finish. \n",
    "\n",
    "If the number is divisible by 2, print 'Dividing by two' and divide it by two.\n",
    "\n",
    "If the number is not divisible by 2, subtract 1 and print 'Subtracting 1'.\n",
    "\n",
    "EXTRA: watch user input!"
   ]
  },
  {
   "cell_type": "code",
   "execution_count": null,
   "metadata": {},
   "outputs": [],
   "source": []
  },
  {
   "cell_type": "markdown",
   "metadata": {},
   "source": [
    "4. Try addding break, continue or pass into the following code so it works as expected:\n",
    "\n",
    "=> when x == 10, don't print 'Another round!' \n",
    "\n",
    "=> don't print the part 'Don't print me please' at all\n",
    "\n",
    "=> when x == 17, you want to get out of the loop\n",
    "\n",
    "WARNING: If you run the code as it is now, it will get into an infinite loop. Go to Kernel => Restart if that happens."
   ]
  },
  {
   "cell_type": "code",
   "execution_count": 7,
   "metadata": {},
   "outputs": [
    {
     "name": "stdout",
     "output_type": "stream",
     "text": [
      "x = 10\n",
      "I am 10!\n",
      "x = 11\n",
      "Another round!\n",
      "x = 12\n",
      "Another round!\n",
      "x = 13\n",
      "Another round!\n",
      "x = 14\n",
      "Another round!\n",
      "x = 15\n",
      "Another round!\n",
      "x = 16\n",
      "Another round!\n",
      "x = 17\n",
      "Finish this madness\n"
     ]
    }
   ],
   "source": [
    "running = True\n",
    "x = 9\n",
    "while running:\n",
    "    x += 1\n",
    "    print('x = {}'.format(x))\n",
    "    if x == 10:\n",
    "        print('I am 10!')\n",
    "    elif x == 17:\n",
    "        print('Finish this madness')\n",
    "    elif True:\n",
    "        print('Another round!')\n",
    "    print(\"Don't print me please\")\n",
    "    "
   ]
  },
  {
   "cell_type": "code",
   "execution_count": null,
   "metadata": {},
   "outputs": [],
   "source": []
  },
  {
   "cell_type": "code",
   "execution_count": null,
   "metadata": {},
   "outputs": [],
   "source": []
  }
 ],
 "metadata": {
  "kernelspec": {
   "display_name": "Python 3",
   "language": "python",
   "name": "python3"
  },
  "language_info": {
   "codemirror_mode": {
    "name": "ipython",
    "version": 3
   },
   "file_extension": ".py",
   "mimetype": "text/x-python",
   "name": "python",
   "nbconvert_exporter": "python",
   "pygments_lexer": "ipython3",
   "version": "3.7.4"
  }
 },
 "nbformat": 4,
 "nbformat_minor": 2
}
