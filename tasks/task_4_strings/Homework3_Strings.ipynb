{
 "cells": [
  {
   "cell_type": "markdown",
   "metadata": {},
   "source": [
    "Welcome to the third homework! The purpose is to test and practice your understanding of the current topic.\n",
    "\n",
    "Once you have done all of them, send me your solutions"
   ]
  },
  {
   "cell_type": "markdown",
   "metadata": {},
   "source": [
    "STRINGS"
   ]
  },
  {
   "cell_type": "markdown",
   "metadata": {},
   "source": [
    "1. Print the strings 'hello' and 'world' in two rows\n",
    "2. Print 'I can print a new line', then print two new lines, and print 'See?'. Both texts should be visible on the screen.\n",
    "3. Find out how long is the string \"It doesn't suck to stay at home all day\"\n",
    "4. Assing your name to the variable 'name' and print it.\n",
    "5. Print the last  letter of your name. Use string indexing.\n",
    "6. Print the last three letters of your name. Use string indexing.\n",
    "7. Print the word 'super' from string 'My dog is the most super duper boy'. Use string indexing.\n",
    "8. Write out the letters on even positions of the string 'aHoEkLsLfO'. Use string indexing/slicing.\n",
    "9. Print backwards the string 'emosewA'.\n",
    "10. Create variable 'name' with your name in it. Create variable 'surname' with your surname. Concatenate these strings into variable 'whole_name' and print your whole name.\n",
    "11. Print string consisting of the word 'WoT' written 20 times.\n",
    "12. Write out in lower case the letters on even positions of the string 'aHoEkLsLfO'.\n",
    "13. Split the string \"I'mYaYrobot\" on the 'Y' character. \n",
    "14. Print the string 'aBBcccDDDeeeeFFFFF' using string concatenation, multiplication and the upper() function.\n",
    "15. Store the string \"Knocking on heavens door\" as variable 'song'. Figure out how to print 'SNEVAEH' from this string with the operations you have learnt.\n",
    "15. Store the string \"I was at home yesterday\" and store also string \"Beatles and bugs are created by devil himself\". Using these two strings, print out \"Yesterday by Beatles\". "
   ]
  },
  {
   "cell_type": "code",
   "execution_count": 2,
   "metadata": {},
   "outputs": [
    {
     "name": "stdout",
     "output_type": "stream",
     "text": [
      "hello\n",
      "world\n"
     ]
    }
   ],
   "source": [
    "# 1. Print the strings 'hello' and 'world' in two rows\n",
    "print(\"hello\\nworld\")"
   ]
  },
  {
   "cell_type": "code",
   "execution_count": 5,
   "metadata": {},
   "outputs": [
    {
     "name": "stdout",
     "output_type": "stream",
     "text": [
      "I can print a new line\n",
      "\n",
      "\n",
      "See?\n"
     ]
    }
   ],
   "source": [
    "# 2. Print 'I can print a new line', then print two new lines, and print 'See?'. Both texts should be visible on the screen.\n",
    "print(\"I can print a new line\")\n",
    "print(\"\\n\")\n",
    "print(\"See?\")"
   ]
  },
  {
   "cell_type": "code",
   "execution_count": 7,
   "metadata": {},
   "outputs": [
    {
     "data": {
      "text/plain": [
       "39"
      ]
     },
     "execution_count": 7,
     "metadata": {},
     "output_type": "execute_result"
    }
   ],
   "source": [
    "# 3. Find out how long is the string \"It doesn't suck to stay at home all day\"\n",
    "len(\"It doesn't suck to stay at home all day\")"
   ]
  },
  {
   "cell_type": "code",
   "execution_count": 10,
   "metadata": {},
   "outputs": [
    {
     "name": "stdout",
     "output_type": "stream",
     "text": [
      "Dima\n"
     ]
    }
   ],
   "source": [
    "# 4. Assing your name to the variable 'name' and print it.\n",
    "name = \"Dima\"\n",
    "print(name)"
   ]
  },
  {
   "cell_type": "code",
   "execution_count": 12,
   "metadata": {},
   "outputs": [
    {
     "name": "stdout",
     "output_type": "stream",
     "text": [
      "a\n"
     ]
    }
   ],
   "source": [
    "# 5. Print the last letter of your name. Use string indexing.\n",
    "name = \"Dima\"\n",
    "print(name[-1])"
   ]
  },
  {
   "cell_type": "code",
   "execution_count": 25,
   "metadata": {},
   "outputs": [
    {
     "name": "stdout",
     "output_type": "stream",
     "text": [
      "ima\n",
      "ima\n"
     ]
    }
   ],
   "source": [
    "# 6. Print the last three letters of your name. Use string indexing.\n",
    "name = \"Dima\"\n",
    "print(name[1] + name[2] + name[3])\n",
    "# or\n",
    "print(name[-3:])"
   ]
  },
  {
   "cell_type": "code",
   "execution_count": 26,
   "metadata": {},
   "outputs": [
    {
     "name": "stdout",
     "output_type": "stream",
     "text": [
      "super \n",
      "super\n"
     ]
    }
   ],
   "source": [
    "# 7. Print the word 'super' from string 'My dog is the most super duper boy'. Use string indexing.\n",
    "print('My dog is the most super duper boy'[19] + 'My dog is the most super duper boy'[20] + \n",
    "      'My dog is the most super duper boy'[21] + 'My dog is the most super duper boy'[22] + \n",
    "      'My dog is the most super duper boy'[23] + 'My dog is the most super duper boy'[24])\n",
    "# or\n",
    "print('My dog is the most super duper boy'[19:24])"
   ]
  },
  {
   "cell_type": "code",
   "execution_count": 29,
   "metadata": {},
   "outputs": [
    {
     "data": {
      "text/plain": [
       "'HELLO'"
      ]
     },
     "execution_count": 29,
     "metadata": {},
     "output_type": "execute_result"
    }
   ],
   "source": [
    "# 8. Write out the letters on even positions of the string 'aHoEkLsLfO'. Use string indexing/slicing.\n",
    "'aHoEkLsLfO'[1::2]"
   ]
  },
  {
   "cell_type": "code",
   "execution_count": 30,
   "metadata": {},
   "outputs": [
    {
     "name": "stdout",
     "output_type": "stream",
     "text": [
      "Awesome\n"
     ]
    }
   ],
   "source": [
    "# 9. Print backwards the string 'emosewA'.\n",
    "print('emosewA'[::-1])"
   ]
  },
  {
   "cell_type": "code",
   "execution_count": 32,
   "metadata": {},
   "outputs": [
    {
     "name": "stdout",
     "output_type": "stream",
     "text": [
      "Dima Krupnov\n"
     ]
    }
   ],
   "source": [
    "# 10. Create variable 'name' with your name in it. Create variable 'surname' with your surname. \n",
    "# Concatenate these strings into variable 'whole_name' and print your whole name.\n",
    "name = \"Dima\"\n",
    "surname = \"Krupnov\"\n",
    "whole_name = name + \" \" + surname\n",
    "print(whole_name)"
   ]
  },
  {
   "cell_type": "code",
   "execution_count": 33,
   "metadata": {},
   "outputs": [
    {
     "name": "stdout",
     "output_type": "stream",
     "text": [
      "WoTWoTWoTWoTWoTWoTWoTWoTWoTWoTWoTWoTWoTWoTWoTWoTWoTWoTWoTWoT\n"
     ]
    }
   ],
   "source": [
    "# 11. Print string consisting of the word 'WoT' written 20 times.\n",
    "print(\"WoT\"*20)"
   ]
  },
  {
   "cell_type": "code",
   "execution_count": 36,
   "metadata": {},
   "outputs": [
    {
     "name": "stdout",
     "output_type": "stream",
     "text": [
      "hello\n"
     ]
    }
   ],
   "source": [
    "# 12. Write out in lower case the letters on even positions of the string 'aHoEkLsLfO'.\n",
    "print('aHoEkLsLfO'[1::2].lower())"
   ]
  },
  {
   "cell_type": "code",
   "execution_count": 37,
   "metadata": {},
   "outputs": [
    {
     "data": {
      "text/plain": [
       "[\"I'm\", 'a', 'robot']"
      ]
     },
     "execution_count": 37,
     "metadata": {},
     "output_type": "execute_result"
    }
   ],
   "source": [
    "# 13. Split the string \"I'mYaYrobot\" on the 'Y' character.\n",
    "\"I'mYaYrobot\".split('Y')"
   ]
  },
  {
   "cell_type": "code",
   "execution_count": 45,
   "metadata": {},
   "outputs": [
    {
     "name": "stdout",
     "output_type": "stream",
     "text": [
      "aBBcccDDDeeeeFFFFF\n"
     ]
    }
   ],
   "source": [
    "# 14. Print the string 'aBBcccDDDeeeeFFFFF' using string concatenation, multiplication and the upper() function.\n",
    "print('a' + 'b'.upper()*2 + 'c'*3 + 'd'.upper()*3 + 'e'*4 + 'f'.upper()*5)"
   ]
  },
  {
   "cell_type": "code",
   "execution_count": 48,
   "metadata": {},
   "outputs": [
    {
     "data": {
      "text/plain": [
       "'SNEVAEH'"
      ]
     },
     "execution_count": 48,
     "metadata": {},
     "output_type": "execute_result"
    }
   ],
   "source": [
    "# 15. Store the string \"Knocking on heavens door\" as variable 'song'. \n",
    "# Figure out how to print 'SNEVAEH' from this string with the operations you have learnt.\n",
    "song = \"Knocking on heavens door\"\n",
    "song.split()[2][::-1].upper()"
   ]
  },
  {
   "cell_type": "code",
   "execution_count": 60,
   "metadata": {},
   "outputs": [
    {
     "data": {
      "text/plain": [
       "'Yesterday by Beatles'"
      ]
     },
     "execution_count": 60,
     "metadata": {},
     "output_type": "execute_result"
    }
   ],
   "source": [
    "# 16. Store the string \"I was at home yesterday\" and store also string \"Beatles and bugs are created by devil himself\". \n",
    "# Using these two strings, print out \"Yesterday by Beatles\".\n",
    "first_string = \"I was at home yesterday\" \n",
    "second_string = \"Beatles and bugs are created by devil himself\"\n",
    "first_string.split()[4][0].upper() + first_string.split()[4][1:] + \" \" + second_string.split()[0][0].lower() + first_string.split()[4][0] + \" \" + second_string.split()[0]"
   ]
  }
 ],
 "metadata": {
  "kernelspec": {
   "display_name": "Python 3 (ipykernel)",
   "language": "python",
   "name": "python3"
  },
  "language_info": {
   "codemirror_mode": {
    "name": "ipython",
    "version": 3
   },
   "file_extension": ".py",
   "mimetype": "text/x-python",
   "name": "python",
   "nbconvert_exporter": "python",
   "pygments_lexer": "ipython3",
   "version": "3.9.12"
  }
 },
 "nbformat": 4,
 "nbformat_minor": 2
}
