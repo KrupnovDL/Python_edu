{
 "cells": [
  {
   "cell_type": "markdown",
   "metadata": {},
   "source": [
    "# Milestone Project 2 - Blackjack Game\n",
    "In this milestone project you will be creating a Complete BlackJack Card Game in Python.\n",
    "\n",
    "Here are the requirements:\n",
    "\n",
    "* You need to create a simple text-based [BlackJack](https://en.wikipedia.org/wiki/Blackjack) game\n",
    "* The game needs to have one player versus an automated dealer.\n",
    "* The player can stand or hit.\n",
    "* The player must be able to pick their betting amount.\n",
    "* You need to keep track of the player's total money.\n",
    "* You need to alert the player of wins, losses, or busts, etc...\n",
    "\n",
    "And most importantly:\n",
    "\n",
    "* **You must use OOP and classes in some portion of your game. You can not just use functions in your game. Use classes to help you define the Deck and the Player's hand. There are many right ways to do this, so explore it well!**\n",
    "\n",
    "\n",
    "Feel free to expand this game. Try including multiple players. Try adding in Double-Down and card splits! Remember to you are free to use any resources you want and as always:\n",
    "\n",
    "# HAVE FUN!"
   ]
  },
  {
   "cell_type": "code",
   "execution_count": 153,
   "metadata": {},
   "outputs": [
    {
     "data": {
      "text/html": [
       "<div style=\"display: grid; gap: 8px; grid-template-columns: repeat(6, 150px);\">NoneNoneNoneNoneNoneNoneNoneNone</div>"
      ],
      "text/plain": [
       "<IPython.core.display.HTML object>"
      ]
     },
     "metadata": {},
     "output_type": "display_data"
    },
    {
     "data": {
      "text/html": [
       "<img src=\"https://tekeye.uk/playing_cards/images/svg_playing_cards/fronts/png_96_dpi/clubs_ace.png\" width=\"150\"/>"
      ],
      "text/plain": [
       "<IPython.core.display.Image object>"
      ]
     },
     "metadata": {},
     "output_type": "display_data"
    },
    {
     "name": "stdout",
     "output_type": "stream",
     "text": [
      "None\n"
     ]
    }
   ],
   "source": [
    "# https://tekeye.uk/playing_cards/svg-playing-cards\n",
    "\n",
    "from IPython.display import display, HTML, SVG\n",
    "from ipywidgets import Button, Layout\n",
    "\n",
    "card_height = 150\n",
    "card_width = card_height / 1.54385965\n",
    "# card_a = SVG(url = 'https://tekeye.uk/playing_cards/images/svg_playing_cards/fronts/clubs_ace.svg')\n",
    "card_a = Image(url = 'https://tekeye.uk/playing_cards/images/svg_playing_cards/fronts/png_96_dpi/clubs_ace.png', width=150)\n",
    "no_wrap_div = '<div style=\"display: grid; gap: 8px; grid-template-columns: repeat(6, 150px);\">{}{}{}{}{}{}{}{}</div>'\n",
    "display(HTML(no_wrap_div.format(card_a.data, card_a.data, card_a.data, card_a.data, card_a.data, card_a.data, card_a.data, card_a.data)))\n",
    "\n",
    "display(card_a)\n",
    "\n",
    "card_deck = {\n",
    "    \"clubs_2\": 2,\n",
    "    \"clubs_3\": 3,\n",
    "    \"clubs_4\": 4,\n",
    "    \"clubs_5\": 5,\n",
    "    \"clubs_6\": 6,\n",
    "    \"clubs_7\": 7,\n",
    "    \"clubs_8\": 8,\n",
    "    \"clubs_9\": 9,\n",
    "    \"clubs_10\": 10,\n",
    "    \"clubs_ace\": 11,\n",
    "    \"clubs_jack\": 10,\n",
    "    \"clubs_king\": 10,\n",
    "    \"clubs_queen\": 10,\n",
    "    \"diamonds_2\": 2,\n",
    "    \"diamonds_3\": 3,\n",
    "    \"diamonds_4\": 4,\n",
    "    \"diamonds_5\": 5,\n",
    "    \"diamonds_6\": 6,\n",
    "    \"diamonds_7\": 7,\n",
    "    \"diamonds_8\": 8,\n",
    "    \"diamonds_9\": 9,\n",
    "    \"diamonds_10\": 10,\n",
    "    \"diamonds_ace\": 11,\n",
    "    \"diamonds_jack\": 10,\n",
    "    \"diamonds_king\": 10,\n",
    "    \"diamonds_queen\": 10,\n",
    "    \"hearts_2\": 2,\n",
    "    \"hearts_3\": 3,\n",
    "    \"hearts_4\": 4,\n",
    "    \"hearts_5\": 5,\n",
    "    \"hearts_6\": 6,\n",
    "    \"hearts_7\": 7,\n",
    "    \"hearts_8\": 8,\n",
    "    \"hearts_9\": 9,\n",
    "    \"hearts_10\": 10,\n",
    "    \"hearts_ace\": 11,\n",
    "    \"hearts_jack\": 10,\n",
    "    \"hearts_king\": 10,\n",
    "    \"hearts_queen\": 10,\n",
    "    \"spades_2\": 2,\n",
    "    \"spades_3\": 3,\n",
    "    \"spades_4\": 4,\n",
    "    \"spades_5\": 5,\n",
    "    \"spades_6\": 6,\n",
    "    \"spades_7\": 7,\n",
    "    \"spades_8\": 8,\n",
    "    \"spades_9\": 9,\n",
    "    \"spades_10\": 10,\n",
    "    \"spades_ace\": 11,\n",
    "    \"spades_jack\": 10,\n",
    "    \"spades_king\": 10,\n",
    "    \"spades_queen\": 10\n",
    "}\n",
    "\n",
    "print(card_a.data)"
   ]
  }
 ],
 "metadata": {
  "kernelspec": {
   "display_name": "Python 3 (ipykernel)",
   "language": "python",
   "name": "python3"
  },
  "language_info": {
   "codemirror_mode": {
    "name": "ipython",
    "version": 3
   },
   "file_extension": ".py",
   "mimetype": "text/x-python",
   "name": "python",
   "nbconvert_exporter": "python",
   "pygments_lexer": "ipython3",
   "version": "3.9.12"
  }
 },
 "nbformat": 4,
 "nbformat_minor": 1
}
