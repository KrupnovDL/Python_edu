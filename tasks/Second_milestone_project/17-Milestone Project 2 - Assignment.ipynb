# https://tekeye.uk/playing_cards/svg-playing-cards

from IPython.display import display, clear_output
from ipywidgets import Button, Layout, BoundedIntText, HBox, VBox, GridBox, HTML
import random
import time


card_deck = {
    "clubs_2": 2,
    "clubs_3": 3,
    "clubs_4": 4,
    "clubs_5": 5,
    "clubs_6": 6,
    "clubs_7": 7,
    "clubs_8": 8,
    "clubs_9": 9,
    "clubs_10": 10,
    "clubs_ace": 11,
    "clubs_jack": 10,
    "clubs_king": 10,
    "clubs_queen": 10,
    "diamonds_2": 2,
    "diamonds_3": 3,
    "diamonds_4": 4,
    "diamonds_5": 5,
    "diamonds_6": 6,
    "diamonds_7": 7,
    "diamonds_8": 8,
    "diamonds_9": 9,
    "diamonds_10": 10,
    "diamonds_ace": 11,
    "diamonds_jack": 10,
    "diamonds_king": 10,
    "diamonds_queen": 10,
    "hearts_2": 2,
    "hearts_3": 3,
    "hearts_4": 4,
    "hearts_5": 5,
    "hearts_6": 6,
    "hearts_7": 7,
    "hearts_8": 8,
    "hearts_9": 9,
    "hearts_10": 10,
    "hearts_ace": 11,
    "hearts_jack": 10,
    "hearts_king": 10,
    "hearts_queen": 10,
    "spades_2": 2,
    "spades_3": 3,
    "spades_4": 4,
    "spades_5": 5,
    "spades_6": 6,
    "spades_7": 7,
    "spades_8": 8,
    "spades_9": 9,
    "spades_10": 10,
    "spades_ace": 11,
    "spades_jack": 10,
    "spades_king": 10,
    "spades_queen": 10
}


class Game:

    dealer_title_html = '<p style="font-size: 16px; font-weight: bold; line-height: 16px;">Dealer</p>'

    def __init__(self, dealer = None, players = None, number_of_players = 1, bets_input = None, \
               active_player = 0, actice_hand = 0, short_pause = 0.8, long_pause = 1.8):
        self.dealer = dealer
        self.players = players
        self.number_of_players = number_of_players
        self.bets_input = bets_input
        self.active_player = active_player
        self.actice_hand = actice_hand
        self.short_pause = short_pause
        self.long_pause = long_pause

    def setDealer(self):
        self.dealer = Dealer()

    def setPlayers(self):
        self.players = [Player(f"Player {player_number}") for player_number, player \
                        in enumerate(range(self.number_of_players), start=1)]

    def setNumberOfPlayers(self, number_of_players):
        self.number_of_players = number_of_players

    def setBetsInput(self):
        self.bets_input = []

    def setActivePlayer(self, active_player):
        self.active_player = active_player

    def setActiceHand(self, actice_hand):
        self.actice_hand = actice_hand

    def setShortPause(self, short_pause):
        self.short_pause = short_pause

    def setLongPause(self, long_pause):
        self.long_pause = long_pause

    def getActivePlayer(self):
        return self.players[self.active_player]

    def getActiveHand(self):
        return self.players[self.active_player].hands[self.actice_hand]


class Hand:
    def __init__(self):
        self.cards = []
        self.value = 0
        self.bet = 0
        self.was_blackjack = False
        self.finished_round = False

    def __lt__(self,other):
        return self.value < other.value

    def __gt__(self,other):
        return self.value > other.value

    def __eq__(self,other):
        return self.value == other.value

    def addToHand(self, cards):
        self.cards += cards
        for card in cards:
            self.value += card_deck[card]
        if self.value > 21:
            value = 0
            number_of_aces = 0
            for card in self.cards:
                if "ace" in card:
                    number_of_aces += 1
                value += card_deck[card]
            for i in range(number_of_aces):
                if value > 21:
                    value -= 10
                else:
                    break
            self.value = value

    def display(self, end = None):
        card_width = 140
        cards_in_row = 4
        hand_html = f'<div style="display: grid; gap: 8px; grid-template-columns: repeat({cards_in_row},'\
        f'{card_width}px); justify-content: center;">'
        for card in self.cards[:end]:
            hand_html += '<div style="background-image:url(https://tekeye.uk/playing_cards/images/svg_playing_cards/'\
            f'fronts/{card}.svg); background-size: contain; background-repeat: no-repeat; height:200px;"></div>'
        if end is not None:
            hand_html += '<div style="background-image:url(https://tekeye.uk/playing_cards/images/svg_playing_cards/'\
            'backs/blue2.svg); background-size: contain; background-repeat: no-repeat; height:200px;"></div>' * \
            (len(self.cards) - end)
        hand_html += '</div>'
        return hand_html


class winLose:
    def lose(self, money):
        self.money -= money

    def win(self, money):
        self.money += money


class Dealer(winLose):
    def __init__(self, money = 1_000):
        self.hand = Hand()
        self.money = money
        self.deck = Deck()

    def setHand(self):
        self.hand = Hand()


class Player(winLose):
    def __init__(self, name, money = 100):
        self.hands = [Hand()]
        self.money = money
        self.name = name

    def setHands(self):
        self.hands = [Hand()]


class Deck:
    number_of_decks = 6

    def __init__(self):
        self.deck = list(card_deck.keys()) * self.number_of_decks
        random.shuffle(self.deck)

    def shuffle(self):
        self.deck = list(card_deck.keys()) * self.number_of_decks
        random.shuffle(self.deck)

    def deal(self, cards = 1):
        to_deal = self.deck[-cards:]
        self.deck = self.deck[:-cards]
        return to_deal


def new_game_clicked(b):
    clear_output(wait=True)
    display(HBox([number_of_players_input, players_ok_button]))


def players_ok_button_clicked(b):
    blackjack.setNumberOfPlayers(number_of_players_input.value)
    new_game()


def new_game():
    blackjack.setDealer()
    blackjack.setPlayers()
    betting()


def betting():
    clear_output(wait=True)
    if len(blackjack.players) == 1:
        print("Place your bet:")
    else:
        print("Place your bets:")
    blackjack.setBetsInput()
    for player_number, player in enumerate(blackjack.players, start=1):
        blackjack.bets_input.append(
            BoundedIntText(
                value=10,
                min=1,
                max=player.money,
                step=1,
                disabled=False
            )
        )
        display(HBox([HTML(value=f"{player.name} ({player.money}$)"), blackjack.bets_input[-1]]))
    display(betting_ok_button)


def betting_ok_button_clicked(b):
    dealer = blackjack.dealer
    deck = dealer.deck
    deck.shuffle()
    dealer.setHand()
    dealer.hand.addToHand(deck.deal(2))
    if dealer.hand.value == 21:
         dealer.hand.was_blackjack = True
    for index, player in enumerate(blackjack.players):
        player.setHands()
        player.hands[0].bet = blackjack.bets_input[index].value
        player.money -= player.hands[0].bet
        for i in range(2):
            player.hands[0].addToHand(deck.deal(1))
            clear_output(wait=True)
            print(f"{player.name}")
            display(HTML(player.hands[0].display()))
            time.sleep(blackjack.short_pause)
        if player.hands[0].value == 21:
            player.hands[0].was_blackjack = True
            player.hands[0].finished_round = True
            print("Blackjack!!!")
            time.sleep(blackjack.long_pause)
    game()


def game():
    for player_number, player in enumerate(blackjack.players):
        for hand_number, hand in enumerate(player.hands):
            if hand.finished_round:
                continue
            else:
                blackjack.active_player = player_number
                blackjack.actice_hand = hand_number
                game_screen()
                return None
    dealer_move()


def game_screen():
    player = blackjack.getActivePlayer()
    hand = blackjack.getActiveHand()
    clear_output(wait=True)
    buttons = []
    if hand.value == 21:
        buttons = [twenty_one_button]
    elif hand.value > 21:
        buttons = [bust_button]
    elif not hand.finished_round:
        buttons = [new_game_button, hit_button, stand_button]
        if len(hand.cards) == 2:
            if player.money >= hand.bet:
                buttons += [double_button]
                if card_deck[hand.cards[0]] == card_deck[hand.cards[1]]:
                    buttons += [split_button]

    player_title = f"{player.name} "
    if len(player.hands) > 1:
        player_title += f"Hand {blackjack.actice_hand+1} "
    player_title_html = f"<p style='font-size: 16px; font-weight: bold; line-height: 16px;'>{player_title}</p>"
    player_info_html = f"<p>Score({hand.value}) Money({player.money}$) Bet({hand.bet}$)</p>"
    player_html = f"<div>{player_title_html + player_info_html}</div>"

    display(
        GridBox(
            children=[
                HTML(value=blackjack.dealer_title_html, layout=Layout(grid_area='dealer-title')),
                HTML(value=blackjack.dealer.hand.display(1), layout=Layout(grid_area='dealer')),
                HTML(value=player_html, layout=Layout(grid_area='player-title')),
                HTML(value=hand.display(), layout=Layout(grid_area='player')),
                VBox(buttons, layout=Layout(grid_area='info'))
            ],
            layout=Layout(
                grid_template_columns='1fr 180px',
                grid_template_rows='repeat(4, auto)',
                grid_template_areas= '''
                    "dealer-title info"
                    "dealer info"
                    "player-title info"
                    "player info"
                    ''',
                grid_gap='8px')
            )
        )

    if len(buttons) < 2:
        time.sleep(blackjack.long_pause)
        hand.finished_round = True
        game()


def hit_button_clicked(b):
    dealer = blackjack.dealer
    blackjack.getActiveHand().addToHand(dealer.deck.deal(1))
    game()


def stand_button_clicked(b):
    blackjack.getActiveHand().finished_round = True
    game()


def split_button_clicked(b):
    player = blackjack.getActivePlayer()
    hand_to_split = player.hands.pop(blackjack.actice_hand)
    bet = hand_to_split.bet
    player.money -= bet
    player.hands += [Hand(), Hand()]
    player.hands[-1].bet = bet
    player.hands[-2].bet = bet
    player.hands[-1].addToHand([hand_to_split.cards[0]] + blackjack.dealer.deck.deal(1))
    player.hands[-2].addToHand([hand_to_split.cards[1]] + blackjack.dealer.deck.deal(1))
    game()


def double_button_clicked(b):
    dealer = blackjack.dealer
    player = blackjack.getActivePlayer()
    hand = blackjack.getActiveHand()
    hand.finished_round = True
    player.money -= hand.bet
    hand.bet *= 2
    hand.addToHand(dealer.deck.deal(1))
    game_screen()


def new_round_button_clicked(b):
    betting()


def dealer_move():
    hand = blackjack.dealer.hand
    if hand.was_blackjack:
        dealer_move_screen(was_blackjack=True)
    else:
        dealer_move_screen()
        while hand.value < 17:
            time.sleep(blackjack.short_pause)
            hand.addToHand(blackjack.dealer.deck.deal(1))
            dealer_move_screen()
    time.sleep(blackjack.long_pause)
    scoring()


def dealer_move_screen(was_blackjack = False):
    score = blackjack.dealer.hand.value
    clear_output(wait=True)
    print(f"Dealer's move. Score ({score})")
    display(HTML(value=blackjack.dealer.hand.display()))
    if was_blackjack:
        print("Blackjack")
    elif score > 21:
        print("BUST")


def scoring():
    dealer = blackjack.dealer
    players_are_bankrupt = True
    remaining_players = []
    for player_number, player in enumerate(blackjack.players):
        for hand_number, hand in enumerate(player.hands):
            print(f"{player.name} ", end="")
            if len(player.hands) > 1:
                print(f"Hand {hand_number + 1} ", end="")
            bet = hand.bet
            if dealer.hand.was_blackjack: # dealer has blackjack
                if hand.was_blackjack: # dealer and player has blackjack
                    player_push(player_number, bet)
                else: # dealer has blackjack but player doesn't
                    player_minus_bet(player_number, bet)
            else: # dealer doesn't have blackjack
                if hand.was_blackjack: # player has blackjack
                    dealer.money -= round(1.5 * bet)
                    player.money += round(2.5 * bet)
                    print(f"+{round(1.5 * bet)}$")
                elif hand.value > 21: # player bust
                    player_minus_bet(player_number, bet)
                elif dealer.hand.value > 21: # dealer bust
                    player_plus_bet(player_number, bet)
                else:
                    if dealer.hand > hand:
                        player_minus_bet(player_number, bet)
                    elif dealer.hand < hand:
                        player_plus_bet(player_number, bet)
                    elif dealer.hand == hand:
                        player_push(player_number, bet)
        if player.money == 0:
            print(f"{player.name} is a bankrupt")
        else:
            players_are_bankrupt = False
            remaining_players.append(player)
    if players_are_bankrupt:
        print("Casinos always win, and this time is no different. Good luck next time")
        display(new_game_button)
    elif dealer.money <= 0:
        print("You beat the casino! You beat the game! Our congratulations!!")
        display(new_game_button)
    else:
        print(f"Casino has {dealer.money}$")
        blackjack.players = remaining_players
        display(new_round_button)


def player_plus_bet(player_number, bet):
    blackjack.dealer.lose(bet)
    blackjack.players[player_number].win(2 * bet)
    print(f"+{bet}$")


def player_minus_bet(player_number, bet):
    blackjack.dealer.win(bet)
    print(f"-{bet}$")


def player_push(player_number, bet):
    blackjack.players[player_number].money += bet
    print("Push")


blackjack = Game()

new_game_button = Button(description="New game", layout=Layout(width='90%', max_width='250px', height='28px', margin='2px 2px 20px 2px'))
players_ok_button = Button(description="Ok", layout=Layout(width='80px', height='28px'))
betting_ok_button = Button(description="Ok", layout=Layout(width='80px', height='28px'))
number_of_players_input = BoundedIntText(value=1, min=1, max=7, step=1, description='Players:')
hit_button = Button(description="Hit", layout=Layout(width='90%', height='28px'))
stand_button = Button(description="Stand", layout=Layout(width='90%', height='28px'))
split_button = Button(description="Split", layout=Layout(width='90%', height='28px'))
double_button = Button(description="Double", layout=Layout(width='90%', height='28px'))
bust_button = Button(description="Bust", layout=Layout(width='90%', height='100%'))
bust_button.style.button_color = 'tomato'
twenty_one_button = Button(description="Twenty one", layout=Layout(width='90%', height='100%'))
twenty_one_button.style.button_color = 'mediumseagreen'
new_round_button = Button(description="New round", layout=Layout(width='100px', height='28px'))

new_game_button.on_click(new_game_clicked)
players_ok_button.on_click(players_ok_button_clicked)
betting_ok_button.on_click(betting_ok_button_clicked)
hit_button.on_click(hit_button_clicked)
stand_button.on_click(stand_button_clicked)
split_button.on_click(split_button_clicked)
double_button.on_click(double_button_clicked)
new_round_button.on_click(new_round_button_clicked)
'''
RULES:

- Blackjack can play up to 7 players.
- You need to place a bet before starting the game. Minimal bet is 1$.
- Win pays 1-to-1, blackjack pays 3-to-2.
- Dealer stands on soft 17.
- If your hand > 21, you bust. If the two first cards on your hand = 21, you have blackjack.
- If you and the dealer have blackjack, you push.
- On your turn you can hit, stand, split or double.
  - If you hit, you get a card.
  - If you stand, the turn is passed further.
  - You can split only if you have two cards with the same value.
  - If you split, your hand is split into two hands and you continue playing them separately.
  - If you double, you double your bet and get only one additional card.
- Your goal is to win the casino by leaving them without money.
- If you have no money left, you lose.
'''
display(new_game_button)
