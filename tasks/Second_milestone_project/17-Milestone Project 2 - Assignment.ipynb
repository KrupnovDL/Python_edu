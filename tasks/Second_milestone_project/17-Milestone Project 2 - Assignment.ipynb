{
 "cells": [
  {
   "cell_type": "markdown",
   "metadata": {},
   "source": [
    "# Milestone Project 2 - Blackjack Game\n",
    "In this milestone project you will be creating a Complete BlackJack Card Game in Python.\n",
    "\n",
    "Here are the requirements:\n",
    "\n",
    "* You need to create a simple text-based [BlackJack](https://en.wikipedia.org/wiki/Blackjack) game\n",
    "* The game needs to have one player versus an automated dealer.\n",
    "* The player can stand or hit.\n",
    "* The player must be able to pick their betting amount.\n",
    "* You need to keep track of the player's total money.\n",
    "* You need to alert the player of wins, losses, or busts, etc...\n",
    "\n",
    "And most importantly:\n",
    "\n",
    "* **You must use OOP and classes in some portion of your game. You can not just use functions in your game. Use classes to help you define the Deck and the Player's hand. There are many right ways to do this, so explore it well!**\n",
    "\n",
    "\n",
    "Feel free to expand this game. Try including multiple players. Try adding in Double-Down and card splits! Remember to you are free to use any resources you want and as always:\n",
    "\n",
    "# HAVE FUN!"
   ]
  },
  {
   "cell_type": "code",
   "execution_count": 126,
   "metadata": {},
   "outputs": [
    {
     "data": {
      "image/svg+xml": [
       "<svg xmlns:dc=\"http://purl.org/dc/elements/1.1/\" xmlns:cc=\"http://creativecommons.org/ns#\" xmlns:rdf=\"http://www.w3.org/1999/02/22-rdf-syntax-ns#\" xmlns:svg=\"http://www.w3.org/2000/svg\" xmlns=\"http://www.w3.org/2000/svg\" xmlns:sodipodi=\"http://sodipodi.sourceforge.net/DTD/sodipodi-0.dtd\" xmlns:inkscape=\"http://www.inkscape.org/namespaces/inkscape\" width=\"234\" height=\"333.00003\" id=\"svg2\" version=\"1.1\" inkscape:version=\"0.92.4 (5da689c313, 2019-01-14)\" sodipodi:docname=\"clubs_ace.svg\">\n",
       "  <title id=\"title896\">Ace of Clubs Playing Card</title>\n",
       "  <defs id=\"defs4\"/>\n",
       "  <sodipodi:namedview id=\"base\" pagecolor=\"#ffffff\" bordercolor=\"#666666\" borderopacity=\"1.0\" inkscape:pageopacity=\"0.0\" inkscape:pageshadow=\"2\" inkscape:zoom=\"2.1916676\" inkscape:cx=\"120.10775\" inkscape:cy=\"167.56128\" inkscape:document-units=\"px\" inkscape:current-layer=\"layer1\" showgrid=\"false\" inkscape:showpageshadow=\"false\" showguides=\"true\" inkscape:guide-bbox=\"true\" inkscape:snap-global=\"true\" inkscape:window-width=\"1456\" inkscape:window-height=\"976\" inkscape:window-x=\"117\" inkscape:window-y=\"32\" inkscape:window-maximized=\"0\" showborder=\"false\" fit-margin-top=\"0\" fit-margin-left=\"0\" fit-margin-right=\"0\" fit-margin-bottom=\"0\">\n",
       "    <inkscape:grid type=\"xygrid\" id=\"grid3767\" empspacing=\"5\" visible=\"true\" enabled=\"true\" snapvisiblegridlinesonly=\"true\" originx=\"0\" originy=\"5.1666068e-06\"/>\n",
       "  </sodipodi:namedview>\n",
       "  <metadata id=\"metadata7\">\n",
       "    <rdf:RDF>\n",
       "      <cc:Work rdf:about=\"\">\n",
       "        <dc:format>image/svg+xml</dc:format>\n",
       "        <dc:type rdf:resource=\"http://purl.org/dc/dcmitype/StillImage\"/>\n",
       "        <dc:title>Ace of Clubs Playing Card</dc:title>\n",
       "        <cc:license rdf:resource=\"http://creativecommons.org/publicdomain/zero/1.0/\"/>\n",
       "        <dc:date>2020-05-05</dc:date>\n",
       "        <dc:creator>\n",
       "          <cc:Agent>\n",
       "            <dc:title>Daniel S. Fowler</dc:title>\n",
       "          </cc:Agent>\n",
       "        </dc:creator>\n",
       "        <dc:rights>\n",
       "          <cc:Agent>\n",
       "            <dc:title>Public Domain</dc:title>\n",
       "          </cc:Agent>\n",
       "        </dc:rights>\n",
       "        <dc:publisher>\n",
       "          <cc:Agent>\n",
       "            <dc:title>https://tekeye.uk</dc:title>\n",
       "          </cc:Agent>\n",
       "        </dc:publisher>\n",
       "        <dc:language>en-GB</dc:language>\n",
       "        <dc:subject>\n",
       "          <rdf:Bag>\n",
       "            <rdf:li>ace; clubs; playing; card;</rdf:li>\n",
       "          </rdf:Bag>\n",
       "        </dc:subject>\n",
       "        <dc:description>An ace of clubs playing card in black and white.</dc:description>\n",
       "      </cc:Work>\n",
       "      <cc:License rdf:about=\"http://creativecommons.org/publicdomain/zero/1.0/\">\n",
       "        <cc:permits rdf:resource=\"http://creativecommons.org/ns#Reproduction\"/>\n",
       "        <cc:permits rdf:resource=\"http://creativecommons.org/ns#Distribution\"/>\n",
       "        <cc:permits rdf:resource=\"http://creativecommons.org/ns#DerivativeWorks\"/>\n",
       "      </cc:License>\n",
       "    </rdf:RDF>\n",
       "  </metadata>\n",
       "  <g inkscape:label=\"Layer 1\" inkscape:groupmode=\"layer\" id=\"layer1\" transform=\"translate(0,-719.36216)\">\n",
       "    <g id=\"g921\">\n",
       "      <rect inkscape:export-ydpi=\"96\" inkscape:export-xdpi=\"96\" inkscape:export-filename=\"C:\\Users\\fowle\\OneDrive\\Projects\\Playing-Cards\\fronts\\png-096-dpi\\clubs_ace.png\" rx=\"8.9191856\" ry=\"8.9457436\" y=\"719.74011\" x=\"0.37795275\" height=\"332.24411\" width=\"233.24409\" id=\"rect4266\" style=\"fill:#ffffff;fill-opacity:1;stroke:#808080;stroke-width:0.75590551;stroke-linecap:butt;stroke-linejoin:miter;stroke-miterlimit:4;stroke-dasharray:none;stroke-opacity:1\"/>\n",
       "      <g inkscape:export-ydpi=\"96\" inkscape:export-xdpi=\"96\" inkscape:export-filename=\"C:\\Users\\fowle\\OneDrive\\Projects\\Playing-Cards\\fronts\\png-096-dpi\\clubs_ace.png\" transform=\"matrix(0.07348588,0,0,0.07370838,-248.01731,933.60062)\" id=\"g4233\" style=\"fill:none;stroke:#000000;stroke-width:3.18132639;stroke-opacity:1\"/>\n",
       "      <g inkscape:export-ydpi=\"96\" inkscape:export-xdpi=\"96\" inkscape:export-filename=\"C:\\Users\\fowle\\OneDrive\\Projects\\Playing-Cards\\fronts\\png-096-dpi\\clubs_ace.png\" clip-path=\"none\" style=\"fill:none;stroke:#000000;stroke-width:3.18132639;stroke-opacity:1\" id=\"g4211\" transform=\"matrix(0.07348588,0,0,0.07370838,-248.01728,933.60062)\"/>\n",
       "      <g inkscape:export-ydpi=\"96\" inkscape:export-xdpi=\"96\" inkscape:export-filename=\"C:\\Users\\fowle\\OneDrive\\Projects\\Playing-Cards\\fronts\\png-096-dpi\\clubs_ace.png\" transform=\"matrix(0.07348588,0,0,0.07370838,-248.01731,933.60062)\" id=\"g4227\" style=\"fill:none;stroke:#000000;stroke-width:3.18132639;stroke-opacity:1\"/>\n",
       "      <g inkscape:export-ydpi=\"96\" inkscape:export-xdpi=\"96\" inkscape:export-filename=\"C:\\Users\\fowle\\OneDrive\\Projects\\Playing-Cards\\fronts\\png-096-dpi\\clubs_ace.png\" style=\"stroke-width:3.18132639\" transform=\"matrix(0.01882914,0,0,0.01889089,-28.914567,764.98044)\" id=\"g5492-7-8-1\">\n",
       "        <rect style=\"fill:#000000;fill-opacity:1;stroke:none;stroke-width:3.18132639\" id=\"rect4124-6-9-7\" width=\"85.256371\" height=\"295.68549\" x=\"2406.7065\" y=\"536.54938\"/>\n",
       "        <path inkscape:connector-curvature=\"0\" id=\"path3979-1-6-1-2-4\" d=\"m 2917.8563,395.12877 c 67.135,120.80453 23.601,273.14486 -97.235,340.26188 -120.8361,67.11691 -273.2161,23.5947 -340.3501,-97.20972 -17.88,-32.17311 -28.44,-67.89332 -30.889,-104.57183 -9.342,137.92083 -128.747,242.09126 -266.6621,232.71366 -137.914,-9.37771 -242.111,-128.75233 -232.731,-266.63076 9.38,-137.87843 128.786,-242.04886 266.7,-232.67126 36.206,2.4619 71.4431,12.76531 103.7251,30.22171 -118.1921,-70.88592 -156.8751,-224.529044 -85.9451,-343.145874 70.9301,-118.616826 224.6131,-157.289636 343.2611,-86.378126 118.647,70.911526 157.3301,224.554657 86.4,343.17148 -21.341,35.68961 -51.243,65.49972 -86.812,86.88252 121.024,-66.97031 273.4041,-23.4481 340.5381,97.35632 z\" style=\"fill:#000000;fill-opacity:1;stroke:none;stroke-width:3.18132639\" sodipodi:nodetypes=\"ssscssscssscs\"/>\n",
       "      </g>\n",
       "      <g inkscape:export-ydpi=\"96\" inkscape:export-xdpi=\"96\" inkscape:export-filename=\"C:\\Users\\fowle\\OneDrive\\Projects\\Playing-Cards\\fronts\\png-096-dpi\\clubs_ace.png\" style=\"stroke-width:3.18132639\" transform=\"matrix(0.01882924,0,0,-0.01889089,171.24295,1006.7439)\" id=\"g5492-7-8-8-4\">\n",
       "        <rect style=\"fill:#000000;fill-opacity:1;stroke:none;stroke-width:3.18132639\" id=\"rect4124-6-9-8-8\" width=\"85.256371\" height=\"295.68549\" x=\"2406.7065\" y=\"536.54938\"/>\n",
       "        <path inkscape:connector-curvature=\"0\" id=\"path3979-1-6-1-2-2-8\" d=\"m 2917.8563,395.12877 c 67.135,120.80453 23.601,273.14486 -97.235,340.26188 -120.8361,67.11691 -273.2161,23.5947 -340.3501,-97.20972 -17.88,-32.17311 -28.44,-67.89332 -30.889,-104.57183 -9.342,137.92083 -128.747,242.09126 -266.6621,232.71366 -137.914,-9.37771 -242.111,-128.75233 -232.731,-266.63076 9.38,-137.87843 128.786,-242.04886 266.7,-232.67126 36.206,2.4619 71.4431,12.76531 103.7251,30.22171 -118.1921,-70.88592 -156.8751,-224.529044 -85.9451,-343.145874 70.9301,-118.616826 224.6131,-157.289636 343.2611,-86.378126 118.647,70.911526 157.3301,224.554657 86.4,343.17148 -21.341,35.68961 -51.243,65.49972 -86.812,86.88252 121.024,-66.97031 273.4041,-23.4481 340.5381,97.35632 z\" style=\"fill:#000000;fill-opacity:1;stroke:none;stroke-width:3.18132639\" sodipodi:nodetypes=\"ssscssscssscs\"/>\n",
       "      </g>\n",
       "      <g inkscape:export-ydpi=\"96\" inkscape:export-xdpi=\"96\" inkscape:export-filename=\"C:\\Users\\fowle\\OneDrive\\Projects\\Playing-Cards\\fronts\\png-096-dpi\\clubs_ace.png\" style=\"stroke-width:3.18132639\" transform=\"matrix(0.05648742,0,0,0.05667266,-21.360402,867.03374)\" id=\"g5492-7-7\">\n",
       "        <rect style=\"fill:#000000;fill-opacity:1;stroke:none;stroke-width:3.18132639\" id=\"rect4124-6-6\" width=\"85.256371\" height=\"295.68549\" x=\"2406.7065\" y=\"536.54938\"/>\n",
       "        <path inkscape:connector-curvature=\"0\" id=\"path3979-1-6-1-1\" d=\"m 2917.8563,395.12877 c 67.135,120.80453 23.601,273.14486 -97.235,340.26188 -120.8361,67.11691 -273.2161,23.5947 -340.3501,-97.20972 -17.88,-32.17311 -28.44,-67.89332 -30.889,-104.57183 -9.342,137.92083 -128.747,242.09126 -266.6621,232.71366 -137.914,-9.37771 -242.111,-128.75233 -232.731,-266.63076 9.38,-137.87843 128.786,-242.04886 266.7,-232.67126 36.206,2.4619 71.4431,12.76531 103.7251,30.22171 -118.1921,-70.88592 -156.8751,-224.529044 -85.9451,-343.145874 70.9301,-118.616826 224.6131,-157.289636 343.2611,-86.378126 118.647,70.911526 157.3301,224.554657 86.4,343.17148 -21.341,35.68961 -51.243,65.49972 -86.812,86.88252 121.024,-66.97031 273.4041,-23.4481 340.5381,97.35632 z\" style=\"fill:#000000;fill-opacity:1;stroke:none;stroke-width:3.18132639\" sodipodi:nodetypes=\"ssscssscssscs\"/>\n",
       "      </g>\n",
       "      <g id=\"text3755-0\" style=\"font-style:normal;font-variant:normal;font-weight:bold;font-stretch:normal;font-size:3.77201176px;line-height:0%;font-family:'Levenim MT';-inkscape-font-specification:'Sans Bold';letter-spacing:0px;word-spacing:0px;fill:#000000;fill-opacity:1;stroke:none;stroke-width:1\" transform=\"scale(0.83054504,1.2040286)\" aria-label=\"A\">\n",
       "        <path id=\"path898\" style=\"font-size:32.76629639px;line-height:1.25;stroke-width:1\" d=\"M 32.051408,627.48846 H 27.39565 l -1.839905,-4.84774 h -9.5995 l -1.919901,4.84774 H 9.3805865 l 9.0715285,-23.53477 h 4.543764 z m -8.175575,-9.21552 -3.119838,-8.07958 -3.135837,8.07958 z\"/>\n",
       "      </g>\n",
       "      <g id=\"text3755-2-2\" style=\"font-style:normal;font-variant:normal;font-weight:bold;font-stretch:normal;font-size:3.77201176px;line-height:0%;font-family:'Levenim MT';-inkscape-font-specification:'Sans Bold';letter-spacing:0px;word-spacing:0px;fill:#000000;fill-opacity:1;stroke:none;stroke-width:1\" transform=\"scale(-0.8305451,-1.2040285)\" aria-label=\"A\">\n",
       "        <path id=\"path901\" style=\"font-size:32.76629639px;line-height:1.25;stroke-width:1\" d=\"m -249.69128,-844.00842 h -4.65575 l -1.83991,-4.84775 h -9.5995 l -1.9199,4.84775 h -4.65576 l 9.07153,-23.53478 h 4.54376 z m -8.17557,-9.21552 -3.11984,-8.07958 -3.13584,8.07958 z\"/>\n",
       "      </g>\n",
       "    </g>\n",
       "  </g>\n",
       "</svg>"
      ],
      "text/plain": [
       "<IPython.core.display.SVG object>"
      ]
     },
     "metadata": {},
     "output_type": "display_data"
    },
    {
     "data": {
      "text/html": [
       "<img src=\"https://tekeye.uk/playing_cards/images/svg_playing_cards/fronts/clubs_ace.svg\" width=\"100\" height=\"100\"/>"
      ],
      "text/plain": [
       "<IPython.core.display.Image object>"
      ]
     },
     "metadata": {},
     "output_type": "display_data"
    }
   ],
   "source": [
    "from IPython.display import Image, display, HTML\n",
    "from ipywidgets import AppLayout, Button, Layout\n",
    "\n",
    "#a = SVG(filename=\"svg_playing_cards/clubs_ace.svg\")\n",
    "a = SVG(url = 'https://tekeye.uk/playing_cards/images/svg_playing_cards/fronts/clubs_ace.svg')\n",
    "b = Image(url = 'https://tekeye.uk/playing_cards/images/svg_playing_cards/fronts/clubs_ace.svg', width=100, height=100)\n",
    "display(a, b)\n"
   ]
  }
 ],
 "metadata": {
  "kernelspec": {
   "display_name": "Python 3 (ipykernel)",
   "language": "python",
   "name": "python3"
  },
  "language_info": {
   "codemirror_mode": {
    "name": "ipython",
    "version": 3
   },
   "file_extension": ".py",
   "mimetype": "text/x-python",
   "name": "python",
   "nbconvert_exporter": "python",
   "pygments_lexer": "ipython3",
   "version": "3.9.12"
  }
 },
 "nbformat": 4,
 "nbformat_minor": 1
}
