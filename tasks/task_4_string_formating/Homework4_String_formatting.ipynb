{
 "cells": [
  {
   "cell_type": "markdown",
   "metadata": {},
   "source": [
    "Welcome to the fourth homework! The purpose is to test and practice your understanding of the current topic.\n",
    "\n",
    "Once you have done all of them, send me your solutions\n",
    "\n",
    "\n",
    "STRING FORMATTING\n",
    "\n",
    "1. Create variable gift1 and gift2. Print the sentence 'For this Christmas I got (gift1) and (gift2)'. Use all four methods - string concatenation, % method, .format() method and f-strings. Which one is your favorite?"
   ]
  },
  {
   "cell_type": "code",
   "execution_count": 7,
   "metadata": {},
   "outputs": [
    {
     "name": "stdout",
     "output_type": "stream",
     "text": [
      "For this Christmas I got socks and a coal\n",
      "For this Christmas I got socks and a coal\n",
      "For this Christmas I got socks and a coal\n",
      "For this Christmas I got socks and a coal\n"
     ]
    }
   ],
   "source": [
    "gift1 = \"socks\"\n",
    "gift2 = \"a coal\"\n",
    "print(\"For this Christmas I got \" + gift1 + \" and \" + gift2)\n",
    "print(\"For this Christmas I got %s and %s\" % (gift1, gift2))\n",
    "print(\"For this Christmas I got {} and {}\".format(gift1, gift2))\n",
    "print(f\"For this Christmas I got {gift1} and {gift2}\") # My favorite"
   ]
  },
  {
   "cell_type": "markdown",
   "metadata": {},
   "source": [
    "2. Create variable name1 and name2. Print the sentence \"Yesterday I met two lovely girls, (name1) and (name2)'. Use a method of your choice and print a tabulator in front of each name."
   ]
  },
  {
   "cell_type": "code",
   "execution_count": 8,
   "metadata": {},
   "outputs": [
    {
     "name": "stdout",
     "output_type": "stream",
     "text": [
      "Yesterday I met two lovely girls, \tAlice and \tBob\n"
     ]
    }
   ],
   "source": [
    "name1 = \"Alice\"\n",
    "name2 = \"Bob\"\n",
    "print(f\"Yesterday I met two lovely girls, \\t{name1} and \\t{name2}\")"
   ]
  },
  {
   "cell_type": "markdown",
   "metadata": {},
   "source": [
    "3. Use the two string formatting operators, one that converts everything to string, the other that converts to integer. Using these, print a string that will reffer to the same variable pi = 3.14. This string will say \"Pi is roughly equal to 3.14 and very roughly equal to 3\". "
   ]
  },
  {
   "cell_type": "code",
   "execution_count": 30,
   "metadata": {},
   "outputs": [
    {
     "name": "stdout",
     "output_type": "stream",
     "text": [
      "Pi is roughly equal to 3.14 and very roughly equal to 3\n"
     ]
    }
   ],
   "source": [
    "pi = 3.14\n",
    "print(f\"Pi is roughly equal to {pi} and very roughly equal to {pi:.0f}\")"
   ]
  },
  {
   "cell_type": "markdown",
   "metadata": {},
   "source": [
    "4. Print the same output as Exercise 3, but now use two different formats of number rounding, variable pi = 3.141592"
   ]
  },
  {
   "cell_type": "code",
   "execution_count": 37,
   "metadata": {},
   "outputs": [
    {
     "name": "stdout",
     "output_type": "stream",
     "text": [
      "Pi is roughly equal to 3.14 and very roughly equal to 3\n"
     ]
    }
   ],
   "source": [
    "pi = 3.141592\n",
    "print(f\"Pi is roughly equal to {pi:.2f} and very roughly equal to {int(pi)}\")"
   ]
  },
  {
   "cell_type": "markdown",
   "metadata": {},
   "source": [
    "5. Create variable pi = 3.1415926. Use the %1.1f format to edit the precision and padding of float numbers. Your output should look like this:\n",
    "  \n",
    "  a. 'This is pi:3.1415926, you see?'\n",
    "  \n",
    "  b. 'This is pi:     3.1416, you see?'\n",
    "  \n",
    "  c. 'This is pi:     3.1415926000, you see?'\n",
    "  \n",
    "  d. 'This is pi:     3, you see?'"
   ]
  },
  {
   "cell_type": "code",
   "execution_count": 44,
   "metadata": {},
   "outputs": [
    {
     "name": "stdout",
     "output_type": "stream",
     "text": [
      "a. 'This is pi:3.141593, you see?'\n",
      "b. 'This is pi: 3.1416, you see?'\n",
      "c. 'This is pi: 3.1415926000, you see?'\n",
      "d. 'This is pi: 3, you see?'\n"
     ]
    }
   ],
   "source": [
    "pi = 3.1415926\n",
    "print(\"a. 'This is pi:%f, you see?'\" % pi)\n",
    "print(\"b. 'This is pi: %.4f, you see?'\" % pi)\n",
    "print(\"c. 'This is pi: %.10f, you see?'\" % pi)\n",
    "print(\"d. 'This is pi: %.f, you see?'\" % pi)"
   ]
  },
  {
   "cell_type": "markdown",
   "metadata": {},
   "source": [
    "6. Do Exercise 5 once more, but with f-strings. "
   ]
  },
  {
   "cell_type": "code",
   "execution_count": 50,
   "metadata": {},
   "outputs": [
    {
     "name": "stdout",
     "output_type": "stream",
     "text": [
      "a. 'This is pi:3.1415926, you see?'\n",
      "b. 'This is pi: 3.1416, you see?'\n",
      "c. 'This is pi: 3.1415926000, you see?'\n",
      "d. 'This is pi: 3, you see?'\n"
     ]
    }
   ],
   "source": [
    "pi = 3.1415926\n",
    "print(f\"a. 'This is pi:{pi}, you see?'\")\n",
    "print(f\"b. 'This is pi: {pi:.4f}, you see?'\")\n",
    "print(f\"c. 'This is pi: {pi:.10f}, you see?'\")\n",
    "print(f\"d. 'This is pi: {pi:.0f}, you see?'\")"
   ]
  },
  {
   "cell_type": "markdown",
   "metadata": {},
   "source": [
    "7. Index correctly the following line of code so the string is in alphabetical order\n",
    "\n",
    "print('Names in alphabetical order: {} {} {} {} {}'.format('Zahid', 'Marshall', 'Ringo', 'Alice', 'Douglas'))"
   ]
  },
  {
   "cell_type": "code",
   "execution_count": 72,
   "metadata": {},
   "outputs": [
    {
     "name": "stdout",
     "output_type": "stream",
     "text": [
      "Names in alphabetical order: Alice Douglas Marshall Ringo Zahid\n",
      "Names in alphabetical order: Alice Douglas Marshall Ringo Zahid\n"
     ]
    }
   ],
   "source": [
    "print('Names in alphabetical order: {3} {4} {1} {2} {0}'.format('Zahid', 'Marshall', 'Ringo', 'Alice', 'Douglas'))\n",
    "# or\n",
    "print('Names in alphabetical order: {} {} {} {} {}'.format(*sorted(['Zahid', 'Marshall', 'Ringo', 'Alice', 'Douglas'])))"
   ]
  },
  {
   "cell_type": "markdown",
   "metadata": {},
   "source": [
    "8. What is missing instead of ?????. We want to have pet names printed, and my pets are called Sonya (fish), Pepper (dog) and Maribel (cat). Resolve this only by edditing the ????? part, don't add any new lines!\n",
    "\n",
    "print('My pets are {fish}, {dog} and {cat}'.format(???????))"
   ]
  },
  {
   "cell_type": "code",
   "execution_count": 73,
   "metadata": {},
   "outputs": [
    {
     "name": "stdout",
     "output_type": "stream",
     "text": [
      "My pets are Sonya, Pepper and Maribel\n"
     ]
    }
   ],
   "source": [
    "print('My pets are {fish}, {dog} and {cat}'.format(fish = \"Sonya\", dog = \"Pepper\", cat = \"Maribel\"))"
   ]
  },
  {
   "cell_type": "markdown",
   "metadata": {},
   "source": [
    "9. Use the .format() method and print the following string replacing duplicates with variables; \n",
    "\"day after day when sun woke up I sat down to watch the sunshine.\""
   ]
  },
  {
   "cell_type": "code",
   "execution_count": 78,
   "metadata": {},
   "outputs": [
    {
     "data": {
      "text/plain": [
       "'day after day when sun woke up I sat down to watch the sunshine.'"
      ]
     },
     "execution_count": 78,
     "metadata": {},
     "output_type": "execute_result"
    }
   ],
   "source": [
    "\"{day}{space}after{space}{day}{space}when{space}{sun}{space}woke{space}up{space}I{space}sat{space}down{space}to{space}watch{space}the{space}{sun}shine.\".format(day = \"day\", space = \" \", sun = \"sun\")"
   ]
  },
  {
   "cell_type": "markdown",
   "metadata": {},
   "source": [
    "10. Use the .format() metod to allign strings. Print out the following (cell width is 10)\n",
    "\n",
    "    a.\n",
    "        Name      |Hair      |Eyes      \n",
    "      \n",
    "        Janette   |brown     |green\n",
    "      \n",
    "        Mary      |blond     |blue\n",
    "    \n",
    "    b.  \n",
    "        .......Pet|......Name|.....Trait\n",
    "      \n",
    "        .......Dog|.....Lucky|..Good boy\n",
    "      \n",
    "        .......Cat|....Spotty|......Lazy"
   ]
  },
  {
   "cell_type": "code",
   "execution_count": 109,
   "metadata": {
    "scrolled": true
   },
   "outputs": [
    {
     "name": "stdout",
     "output_type": "stream",
     "text": [
      "a.\n",
      "Name      |Hair      |Eyes      \n",
      "Janette   |brown     |green     \n",
      "Mary      |blond     |blue      \n",
      "b.\n",
      ".......Pet|......Name|.....Trait\n",
      ".......Dog|.....Lucky|..Good boy\n",
      ".......Cat|....Spotty|......Lazy\n"
     ]
    }
   ],
   "source": [
    "print(\"a.\")\n",
    "print('{:10}|{:10}|{:10}'.format('Name', 'Hair', 'Eyes'))\n",
    "print('{:10}|{:10}|{:10}'.format('Janette', 'brown', 'green'))\n",
    "print('{:10}|{:10}|{:10}'.format('Mary', 'blond', 'blue'))\n",
    "print(\"b.\")\n",
    "print('{:.>10}|{:.>10}|{:.>10}'.format('Pet', 'Name', 'Trait'))\n",
    "print('{:.>10}|{:.>10}|{:.>10}'.format('Dog', 'Lucky', 'Good boy'))\n",
    "print('{:.>10}|{:.>10}|{:.>10}'.format('Cat', 'Spotty', 'Lazy'))"
   ]
  },
  {
   "cell_type": "markdown",
   "metadata": {},
   "source": [
    "11. Create variable pi = 3.14. Using .format() print the following (cell width is 11):\n",
    "\n",
    "        Decimals---|------Value\n",
    "        -----2-----|-------3.14\n",
    "        -----0-----|----------3\n",
    "        -----5-----|----3.14000\n",
    "       "
   ]
  },
  {
   "cell_type": "code",
   "execution_count": 117,
   "metadata": {},
   "outputs": [
    {
     "name": "stdout",
     "output_type": "stream",
     "text": [
      "Decimals---|------Value\n",
      "-----2-----|-------3.14\n",
      "-----0-----|----------3\n",
      "-----5-----|----3.14000\n"
     ]
    }
   ],
   "source": [
    "pi = 3.14\n",
    "print(\"{:-<11}|{:->11}\".format(\"Decimals\", \"Value\"))\n",
    "print(\"{:-^11}|{:->11}\".format(2, pi))\n",
    "print(\"{:-^11}|{:->11.0f}\".format(0, pi))\n",
    "print(\"{:-^11}|{:->11.5f}\".format(5, pi))"
   ]
  }
 ],
 "metadata": {
  "kernelspec": {
   "display_name": "Python 3 (ipykernel)",
   "language": "python",
   "name": "python3"
  },
  "language_info": {
   "codemirror_mode": {
    "name": "ipython",
    "version": 3
   },
   "file_extension": ".py",
   "mimetype": "text/x-python",
   "name": "python",
   "nbconvert_exporter": "python",
   "pygments_lexer": "ipython3",
   "version": "3.9.12"
  }
 },
 "nbformat": 4,
 "nbformat_minor": 2
}
