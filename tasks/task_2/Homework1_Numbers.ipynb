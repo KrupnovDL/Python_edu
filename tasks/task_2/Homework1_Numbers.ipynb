{
 "cells": [
  {
   "cell_type": "markdown",
   "metadata": {},
   "source": [
    "Welcome to the first homework!\n",
    "The purpose is to test and practice your understanding of the current topic.\n",
    "\n",
    "Once you have done all of them, send me your solutions."
   ]
  },
  {
   "cell_type": "markdown",
   "metadata": {},
   "source": [
    "NUMBERS\n",
    "\n",
    "1. Write an equation that uses multiplication, division, an exponent, addition, and subtraction that is equal to 100.25\n",
    "2. Put parenthesis on the correct places so the following formula is true:  2 + 4 * 5 / 2 + 8 = 3\n",
    "3. What expression would you use to find the power of a number (or the root)?\n",
    "\n",
    "\n",
    "\n",
    "Write down and resolve the following examples using variable assignment and simple arithmetic operators.\n",
    "\n",
    "Example 1:\n",
    "Tom bought 4 pieces of fish, at the price of 2 USD per fish.\n",
    "Jerry bought 3,5 kg of cheese, at the price of 5 USD per kg.\n",
    "How much do you (as the owner) pay for your pets' shopping?\n",
    "\n",
    "Example 2:\n",
    "Let's have a rectangular triangle. For a rectangular triangle, Pythagoren theorem holds, that is a^2 + b^2 = c^2\n",
    "Calculate the size of a, if you know that the third root of b is 2, and c = 17."
   ]
  },
  {
   "cell_type": "code",
   "execution_count": 32,
   "metadata": {
    "scrolled": false
   },
   "outputs": [
    {
     "data": {
      "text/plain": [
       "100.25"
      ]
     },
     "execution_count": 32,
     "metadata": {},
     "output_type": "execute_result"
    }
   ],
   "source": [
    "# Write an equation that uses multiplication, division, an exponent, addition, and subtraction that is equal to 100.25\n",
    "(100 / 2 * 6 - 1000) * 0 + 100.25"
   ]
  },
  {
   "cell_type": "code",
   "execution_count": 31,
   "metadata": {},
   "outputs": [
    {
     "data": {
      "text/plain": [
       "3.0"
      ]
     },
     "execution_count": 31,
     "metadata": {},
     "output_type": "execute_result"
    }
   ],
   "source": [
    "# Put parenthesis on the correct places so the following formula is true: 2 + 4 * 5 / 2 + 8 = 3\n",
    "(2 + 4) * (5 / (2 + 8))"
   ]
  },
  {
   "cell_type": "code",
   "execution_count": 30,
   "metadata": {},
   "outputs": [
    {
     "name": "stdout",
     "output_type": "stream",
     "text": [
      "11.0\n",
      "11.0\n"
     ]
    }
   ],
   "source": [
    "# What expression would you use to find the power of a number (or the root)?\n",
    "print(121**0.5)\n",
    "# or\n",
    "import math\n",
    "print(math.sqrt(121))"
   ]
  },
  {
   "cell_type": "code",
   "execution_count": 29,
   "metadata": {
    "scrolled": true
   },
   "outputs": [
    {
     "data": {
      "text/plain": [
       "25.5"
      ]
     },
     "execution_count": 29,
     "metadata": {},
     "output_type": "execute_result"
    }
   ],
   "source": [
    "# Tom bought 4 pieces of fish, at the price of 2 USD per fish. Jerry bought 3,5 kg of cheese, at the price of 5 USD per kg. \n",
    "# How much do you (as the owner) pay for your pets' shopping?\n",
    "4 * 2 + 3.5 * 5"
   ]
  },
  {
   "cell_type": "code",
   "execution_count": 28,
   "metadata": {},
   "outputs": [
    {
     "name": "stdout",
     "output_type": "stream",
     "text": [
      "15.0\n"
     ]
    }
   ],
   "source": [
    "# Let's have a rectangular triangle. For a rectangular triangle, Pythagoren theorem holds, that is a^2 + b^2 = c^2 \n",
    "# Calculate the size of a, if you know that the third root of b is 2, and c = 17.\n",
    "c = 17\n",
    "b = 2**3\n",
    "a_squared = c**2 - b**2\n",
    "a = a_squared**0.5\n",
    "print(a)"
   ]
  }
 ],
 "metadata": {
  "kernelspec": {
   "display_name": "Python 3 (ipykernel)",
   "language": "python",
   "name": "python3"
  },
  "language_info": {
   "codemirror_mode": {
    "name": "ipython",
    "version": 3
   },
   "file_extension": ".py",
   "mimetype": "text/x-python",
   "name": "python",
   "nbconvert_exporter": "python",
   "pygments_lexer": "ipython3",
   "version": "3.9.12"
  }
 },
 "nbformat": 4,
 "nbformat_minor": 2
}
